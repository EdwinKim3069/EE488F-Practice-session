{
 "cells": [
  {
   "cell_type": "markdown",
   "metadata": {
    "colab_type": "text",
    "id": "BtdMyK3VjZMT"
   },
   "source": [
    "## **Numpy Basics**\n",
    "1. Numpy is the core library for scientific computing in Python and is used to perform computations on multi-dimensional data easily and effectively. \n",
    "1. Numpy provides a new data structure called arrays which allow efficient vector and matrix operations and a number of linear algebra operations"
   ]
  },
  {
   "cell_type": "markdown",
   "metadata": {
    "colab_type": "text",
    "id": "9WtAr1qFjgBc"
   },
   "source": [
    "**Convert a list into an array using numpy**"
   ]
  },
  {
   "cell_type": "code",
   "execution_count": 1,
   "metadata": {
    "colab": {
     "base_uri": "https://localhost:8080/",
     "height": 35
    },
    "colab_type": "code",
    "id": "ZtQUge1Ij6U_",
    "outputId": "b56b447b-c3ea-4d8e-af79-d5f93db1ee8a"
   },
   "outputs": [
    {
     "data": {
      "text/plain": [
       "array([1, 2, 3, 4])"
      ]
     },
     "execution_count": 1,
     "metadata": {},
     "output_type": "execute_result"
    }
   ],
   "source": [
    "import numpy as np #Import numpy package\n",
    "\n",
    "a_list = [1,2,3,4]\n",
    "a = np.array(a_list) #Convert list to numpy array\n",
    "a"
   ]
  },
  {
   "cell_type": "markdown",
   "metadata": {},
   "source": [
    "**Scalar, Vector, Matrix (Tensor)**"
   ]
  },
  {
   "cell_type": "code",
   "execution_count": 2,
   "metadata": {},
   "outputs": [
    {
     "name": "stdout",
     "output_type": "stream",
     "text": [
      "a\n",
      " array(1)\n",
      "shape of a:  ()\n",
      "dimension of a:  0\n",
      "b\n",
      " array([1, 2, 3, 4, 5])\n",
      "shape of b:  (5,)\n",
      "dimension of b:  1\n",
      "c\n",
      " array([[1, 2, 3],\n",
      "       [4, 5, 6]])\n",
      "shape of c:  (2, 3)\n",
      "dimension of c:  2\n"
     ]
    }
   ],
   "source": [
    "a = np.array(1)  # define scalar\n",
    "print('a\\n', a.__repr__())\n",
    "print('shape of a: ', a.shape)\n",
    "print('dimension of a: ', a.ndim)\n",
    "\n",
    "b = np.array([1, 2, 3, 4, 5]) # define vector\n",
    "print('b\\n', b.__repr__())\n",
    "print('shape of b: ', b.shape)\n",
    "print('dimension of b: ', b.ndim)\n",
    "\n",
    "c = np.array([[1, 2, 3], [4, 5, 6]]) # define matrix\n",
    "print('c\\n',c.__repr__())\n",
    "print('shape of c: ', c.shape)\n",
    "print('dimension of c: ', c.ndim)"
   ]
  },
  {
   "cell_type": "markdown",
   "metadata": {
    "colab_type": "text",
    "id": "v0O7ya42kHRo"
   },
   "source": [
    "**Create array obejects using arange(), zeros(), ones(), linspace() methods**"
   ]
  },
  {
   "cell_type": "code",
   "execution_count": 3,
   "metadata": {
    "colab": {
     "base_uri": "https://localhost:8080/",
     "height": 71
    },
    "colab_type": "code",
    "id": "dWRqwhTBkOCY",
    "outputId": "fd02a28a-059d-4ccd-f5fd-9c51de089a60"
   },
   "outputs": [
    {
     "name": "stdout",
     "output_type": "stream",
     "text": [
      "created from .arange() method:  [0 1 2 3 4 5 6 7 8 9]\n",
      "created from .zeros() method:  [0. 0. 0. 0. 0. 0. 0. 0. 0. 0.]\n",
      "created from .ones() method:  [1. 1. 1. 1. 1. 1. 1. 1. 1. 1.]\n",
      "created from .linspace() method:  [0.   0.25 0.5  0.75 1.   1.25 1.5  1.75 2.  ]\n"
     ]
    }
   ],
   "source": [
    "#Numpy also provides many methods to create arrays.\n",
    "\n",
    "a = np.arange(0,10,1)\n",
    "print('created from .arange() method: ', a)\n",
    "\n",
    "a = np.zeros(10)\n",
    "print('created from .zeros() method: ', a)\n",
    "\n",
    "a = np.ones(10)\n",
    "print('created from .ones() method: ', a)\n",
    "\n",
    "a = np.linspace(0,2,9)\n",
    "print('created from .linspace() method: ', a)"
   ]
  },
  {
   "cell_type": "code",
   "execution_count": 4,
   "metadata": {
    "scrolled": true
   },
   "outputs": [
    {
     "name": "stdout",
     "output_type": "stream",
     "text": [
      "int64\n",
      "float64\n"
     ]
    }
   ],
   "source": [
    "# Convert datatype of elements\n",
    "a = np.arange(10).reshape(2, 5) # create (2, 5) shape of array\n",
    "print(a.dtype)   # original datatype\n",
    "print(a.astype(np.float).dtype)  # convert to float"
   ]
  },
  {
   "cell_type": "code",
   "execution_count": 5,
   "metadata": {
    "colab": {
     "base_uri": "https://localhost:8080/",
     "height": 197
    },
    "colab_type": "code",
    "id": "Trl2ehzixpXm",
    "outputId": "23ace893-1257-4ac6-b7f7-8fab63cf3f15"
   },
   "outputs": [
    {
     "name": "stdout",
     "output_type": "stream",
     "text": [
      "created from .reshape() method: \n",
      " array([[ 0,  1,  2,  3,  4,  5,  6,  7],\n",
      "       [ 8,  9, 10, 11, 12, 13, 14, 15]])\n",
      "\n",
      "created from .ones() method: \n",
      " array([[1., 1., 1., 1., 1., 1., 1., 1.],\n",
      "       [1., 1., 1., 1., 1., 1., 1., 1.]])\n",
      "\n",
      "created from .random.random() method: \n",
      " array([[0.5488135 , 0.71518937, 0.60276338, 0.54488318, 0.4236548 ,\n",
      "        0.64589411, 0.43758721, 0.891773  ],\n",
      "       [0.96366276, 0.38344152, 0.79172504, 0.52889492, 0.56804456,\n",
      "        0.92559664, 0.07103606, 0.0871293 ]])\n"
     ]
    }
   ],
   "source": [
    "# We can also make multidimensional arrays.\n",
    "\n",
    "np.random.seed(0) # random seed for reproducibility\n",
    "a = np.arange(16).reshape(2,8) #reshape function gives a new shape to an array without changing its data\n",
    "b = np.ones ((2,8))\n",
    "c = np.random.random((2,8)) #Create an array randomly\n",
    "\n",
    "print('created from .reshape() method: \\n', a.__repr__())\n",
    "print()\n",
    "print('created from .ones() method: \\n', b.__repr__())\n",
    "print()\n",
    "print('created from .random.random() method: \\n', c.__repr__())"
   ]
  },
  {
   "cell_type": "code",
   "execution_count": 6,
   "metadata": {
    "colab": {
     "base_uri": "https://localhost:8080/",
     "height": 323
    },
    "colab_type": "code",
    "id": "zZFijUtZ5P99",
    "outputId": "dfe68284-29b5-4290-d72f-968bdd9ab70b"
   },
   "outputs": [
    {
     "data": {
      "text/plain": [
       "array([[[0.0202184 , 0.83261985, 0.77815675, 0.87001215, 0.97861834],\n",
       "        [0.79915856, 0.46147936, 0.78052918, 0.11827443, 0.63992102],\n",
       "        [0.14335329, 0.94466892, 0.52184832, 0.41466194, 0.26455561],\n",
       "        [0.77423369, 0.45615033, 0.56843395, 0.0187898 , 0.6176355 ]],\n",
       "\n",
       "       [[0.61209572, 0.616934  , 0.94374808, 0.6818203 , 0.3595079 ],\n",
       "        [0.43703195, 0.6976312 , 0.06022547, 0.66676672, 0.67063787],\n",
       "        [0.21038256, 0.1289263 , 0.31542835, 0.36371077, 0.57019677],\n",
       "        [0.43860151, 0.98837384, 0.10204481, 0.20887676, 0.16130952]]])"
      ]
     },
     "execution_count": 6,
     "metadata": {},
     "output_type": "execute_result"
    }
   ],
   "source": [
    "#You can check the dimension or size of arrays\n",
    "a = np.random.random((2, 4, 5))  # dimensional array\n",
    "a"
   ]
  },
  {
   "cell_type": "code",
   "execution_count": 7,
   "metadata": {
    "colab": {
     "base_uri": "https://localhost:8080/",
     "height": 323
    },
    "colab_type": "code",
    "id": "zZFijUtZ5P99",
    "outputId": "dfe68284-29b5-4290-d72f-968bdd9ab70b"
   },
   "outputs": [
    {
     "name": "stdout",
     "output_type": "stream",
     "text": [
      "dimension of array:  3\n",
      "shape of array (2, 4, 5)\n",
      "number of row:  2\n",
      "number of column:  4\n",
      "total number of elements in array:  40\n",
      "data type of elements:  float64\n"
     ]
    }
   ],
   "source": [
    "print('dimension of array: ', a.ndim)\n",
    "print('shape of array', a.shape) \n",
    "print('number of row: ', a.shape[0])\n",
    "print('number of column: ', a.shape[1])\n",
    "print('total number of elements in array: ', a.size)\n",
    "print('data type of elements: ', a.dtype)"
   ]
  },
  {
   "cell_type": "code",
   "execution_count": 8,
   "metadata": {},
   "outputs": [
    {
     "name": "stdout",
     "output_type": "stream",
     "text": [
      "c:\n",
      " array([[[0.65310833, 0.2532916 , 0.46631077, 0.24442559, 0.15896958],\n",
      "        [0.11037514, 0.65632959, 0.13818295, 0.19658236, 0.36872517],\n",
      "        [0.82099323, 0.09710128, 0.83794491, 0.09609841, 0.97645947],\n",
      "        [0.4686512 , 0.97676109, 0.60484552, 0.73926358, 0.03918779]],\n",
      "\n",
      "       [[0.28280696, 0.12019656, 0.2961402 , 0.11872772, 0.31798318],\n",
      "        [0.41426299, 0.0641475 , 0.69247212, 0.56660145, 0.26538949],\n",
      "        [0.52324805, 0.09394051, 0.5759465 , 0.9292962 , 0.31856895],\n",
      "        [0.66741038, 0.13179786, 0.7163272 , 0.28940609, 0.18319136]],\n",
      "\n",
      "       [[0.58651293, 0.02010755, 0.82894003, 0.00469548, 0.67781654],\n",
      "        [0.27000797, 0.73519402, 0.96218855, 0.24875314, 0.57615733],\n",
      "        [0.59204193, 0.57225191, 0.22308163, 0.95274901, 0.44712538],\n",
      "        [0.84640867, 0.69947928, 0.29743695, 0.81379782, 0.39650574]]])\n"
     ]
    }
   ],
   "source": [
    "# 4 dimensional array\n",
    "c = np.random.random((3, 4, 5))\n",
    "print('c:\\n', c.__repr__())"
   ]
  },
  {
   "cell_type": "markdown",
   "metadata": {
    "colab_type": "text",
    "id": "Muu34ANY5aNb"
   },
   "source": [
    "**Indexing & Slicing**"
   ]
  },
  {
   "cell_type": "code",
   "execution_count": 9,
   "metadata": {
    "colab": {
     "base_uri": "https://localhost:8080/",
     "height": 71
    },
    "colab_type": "code",
    "id": "Q1p5MNGlww4-",
    "outputId": "65595e68-20ec-4d01-e717-b71654959354"
   },
   "outputs": [
    {
     "data": {
      "text/plain": [
       "array([6., 1., 1., 1., 2.])"
      ]
     },
     "execution_count": 9,
     "metadata": {},
     "output_type": "execute_result"
    }
   ],
   "source": [
    "#In a similar way to Python lists, numpy arrays can be sliced.\n",
    "a = np.ones(5)\n",
    "a[0] = 6\n",
    "a[4] = 2\n",
    "a"
   ]
  },
  {
   "cell_type": "code",
   "execution_count": 10,
   "metadata": {
    "colab": {
     "base_uri": "https://localhost:8080/",
     "height": 71
    },
    "colab_type": "code",
    "id": "Q1p5MNGlww4-",
    "outputId": "65595e68-20ec-4d01-e717-b71654959354"
   },
   "outputs": [
    {
     "data": {
      "text/plain": [
       "2.0"
      ]
     },
     "execution_count": 10,
     "metadata": {},
     "output_type": "execute_result"
    }
   ],
   "source": [
    "a[-1]  # -1 indicates last element"
   ]
  },
  {
   "cell_type": "code",
   "execution_count": 11,
   "metadata": {
    "colab": {
     "base_uri": "https://localhost:8080/",
     "height": 71
    },
    "colab_type": "code",
    "id": "Q1p5MNGlww4-",
    "outputId": "65595e68-20ec-4d01-e717-b71654959354",
    "scrolled": true
   },
   "outputs": [
    {
     "data": {
      "text/plain": [
       "array([6., 1., 1., 1.])"
      ]
     },
     "execution_count": 11,
     "metadata": {},
     "output_type": "execute_result"
    }
   ],
   "source": [
    "a[0:-1] # include 0 index and exclude -1 (last) index of element"
   ]
  },
  {
   "cell_type": "code",
   "execution_count": 12,
   "metadata": {},
   "outputs": [
    {
     "data": {
      "text/plain": [
       "array([[ 1,  2,  3,  4],\n",
       "       [ 5,  6,  7,  8],\n",
       "       [ 9, 10, 11, 12]])"
      ]
     },
     "execution_count": 12,
     "metadata": {},
     "output_type": "execute_result"
    }
   ],
   "source": [
    "# Create (3, 4) shape of tensor\n",
    "a = np.arange(1, 13).reshape(3, 4)\n",
    "a"
   ]
  },
  {
   "cell_type": "code",
   "execution_count": 13,
   "metadata": {},
   "outputs": [
    {
     "data": {
      "text/plain": [
       "array([1, 2, 3, 4])"
      ]
     },
     "execution_count": 13,
     "metadata": {},
     "output_type": "execute_result"
    }
   ],
   "source": [
    "a[0] # indexing the first row "
   ]
  },
  {
   "cell_type": "code",
   "execution_count": 14,
   "metadata": {},
   "outputs": [
    {
     "data": {
      "text/plain": [
       "2"
      ]
     },
     "execution_count": 14,
     "metadata": {},
     "output_type": "execute_result"
    }
   ],
   "source": [
    "a[0, 1] # indexing second element of the first row"
   ]
  },
  {
   "cell_type": "code",
   "execution_count": 15,
   "metadata": {},
   "outputs": [
    {
     "data": {
      "text/plain": [
       "array([2, 3])"
      ]
     },
     "execution_count": 15,
     "metadata": {},
     "output_type": "execute_result"
    }
   ],
   "source": [
    "a[0, 1:3] # slicing the first row from 1 to 3 (exclusive)"
   ]
  },
  {
   "cell_type": "code",
   "execution_count": 16,
   "metadata": {},
   "outputs": [
    {
     "data": {
      "text/plain": [
       "array([[ 2,  4],\n",
       "       [10, 12]])"
      ]
     },
     "execution_count": 16,
     "metadata": {},
     "output_type": "execute_result"
    }
   ],
   "source": [
    "a[0:3:2, 1:4:2] # slicing with respect to both 1 , 2 - dimensional elements"
   ]
  },
  {
   "cell_type": "code",
   "execution_count": 17,
   "metadata": {
    "colab": {
     "base_uri": "https://localhost:8080/",
     "height": 89
    },
    "colab_type": "code",
    "id": "JXd5uFk6zeAr",
    "outputId": "6576dba5-139e-4159-8c8e-0a3e683ed77e",
    "scrolled": true
   },
   "outputs": [
    {
     "data": {
      "text/plain": [
       "array([[[ 0,  1,  2,  3,  4],\n",
       "        [ 5,  6,  7,  8,  9],\n",
       "        [10, 11, 12, 13, 14]],\n",
       "\n",
       "       [[15, 16, 17, 18, 19],\n",
       "        [20, 21, 22, 23, 24],\n",
       "        [25, 26, 27, 28, 29]]])"
      ]
     },
     "execution_count": 17,
     "metadata": {},
     "output_type": "execute_result"
    }
   ],
   "source": [
    "# slicing with multi-dimensional array\n",
    "a = np.arange(30).reshape(2, 3, 5)\n",
    "a"
   ]
  },
  {
   "cell_type": "code",
   "execution_count": 18,
   "metadata": {},
   "outputs": [
    {
     "data": {
      "text/plain": [
       "array([[ 0,  1,  2,  3,  4],\n",
       "       [ 5,  6,  7,  8,  9],\n",
       "       [10, 11, 12, 13, 14]])"
      ]
     },
     "execution_count": 18,
     "metadata": {},
     "output_type": "execute_result"
    }
   ],
   "source": [
    "a[0] # first matrix element"
   ]
  },
  {
   "cell_type": "code",
   "execution_count": 19,
   "metadata": {},
   "outputs": [
    {
     "data": {
      "text/plain": [
       "array([5, 6, 7, 8, 9])"
      ]
     },
     "execution_count": 19,
     "metadata": {},
     "output_type": "execute_result"
    }
   ],
   "source": [
    "a[0, 1, :] # second row of first matrix element"
   ]
  },
  {
   "cell_type": "code",
   "execution_count": 20,
   "metadata": {},
   "outputs": [
    {
     "data": {
      "text/plain": [
       "array([ 2,  7, 12])"
      ]
     },
     "execution_count": 20,
     "metadata": {},
     "output_type": "execute_result"
    }
   ],
   "source": [
    "a[0, :, 2] # third column of first matrix element"
   ]
  },
  {
   "cell_type": "code",
   "execution_count": 21,
   "metadata": {
    "scrolled": true
   },
   "outputs": [
    {
     "data": {
      "text/plain": [
       "array([[16, 18],\n",
       "       [26, 28]])"
      ]
     },
     "execution_count": 21,
     "metadata": {},
     "output_type": "execute_result"
    }
   ],
   "source": [
    "a[1, 0:3:2, 1:4:2] # slicing with respect to both 2 , 3 - dimensional elements"
   ]
  },
  {
   "cell_type": "code",
   "execution_count": 22,
   "metadata": {},
   "outputs": [
    {
     "data": {
      "text/plain": [
       "(1, 2, 3, 5)"
      ]
     },
     "execution_count": 22,
     "metadata": {},
     "output_type": "execute_result"
    }
   ],
   "source": [
    "# add an additional dimension\n",
    "a[None].shape  # add extra dimension in first dim"
   ]
  },
  {
   "cell_type": "code",
   "execution_count": 23,
   "metadata": {},
   "outputs": [
    {
     "data": {
      "text/plain": [
       "(2, 1, 3, 5)"
      ]
     },
     "execution_count": 23,
     "metadata": {},
     "output_type": "execute_result"
    }
   ],
   "source": [
    "a[:, None].shape # add in second dim"
   ]
  },
  {
   "cell_type": "code",
   "execution_count": null,
   "metadata": {},
   "outputs": [],
   "source": [
    "a[..., None, :].shape  # add in last dim"
   ]
  },
  {
   "cell_type": "markdown",
   "metadata": {
    "colab_type": "text",
    "id": "ZdBNp8Gn5ewE"
   },
   "source": [
    "**Numpy Operations**"
   ]
  },
  {
   "cell_type": "code",
   "execution_count": 25,
   "metadata": {
    "colab": {
     "base_uri": "https://localhost:8080/",
     "height": 143
    },
    "colab_type": "code",
    "id": "58MCYFcTjbUH",
    "outputId": "d1e59d47-b98a-49ec-9fe6-e50fd91c1538"
   },
   "outputs": [
    {
     "name": "stdout",
     "output_type": "stream",
     "text": [
      "a:\n",
      " array([0. , 0.5, 1. , 1.5, 2. , 2.5])\n",
      "b:\n",
      " array([1. , 1.5, 2. , 2.5, 3. , 3.5])\n",
      "\n",
      "array a:\n",
      "  [0.  0.5 1.  1.5 2.  2.5]\n",
      "a + 5 =\n",
      " [5.  5.5 6.  6.5 7.  7.5]\n",
      "a^2 =\n",
      " [0.   0.25 1.   2.25 4.   6.25]\n",
      "cos(a) = \n",
      " [ 1.          0.87758256  0.54030231  0.0707372  -0.41614684 -0.80114362]\n",
      "logical operation of a < 1: \n",
      " [ True  True False False False False]\n"
     ]
    }
   ],
   "source": [
    "# Basic mathematical functions in the numpy module are available and operate elementwise on arrays.\n",
    "# support all basic numerical operations such as +. -. *, /, ** ..\n",
    "a = np.arange(0,3,0.5)\n",
    "b = np.arange(1,4,0.5)\n",
    "print('a:\\n', a.__repr__())\n",
    "print('b:\\n', b.__repr__(), end='\\n\\n')\n",
    "\n",
    "print('array a:\\n ', a)\n",
    "print('a + 5 =\\n', a + 5)\n",
    "print('a^2 =\\n', a ** 2)\n",
    "print('cos(a) = \\n', np.cos(a))\n",
    "print('logical operation of a < 1: \\n', a<1)"
   ]
  },
  {
   "cell_type": "code",
   "execution_count": 26,
   "metadata": {
    "colab": {
     "base_uri": "https://localhost:8080/",
     "height": 143
    },
    "colab_type": "code",
    "id": "58MCYFcTjbUH",
    "outputId": "d1e59d47-b98a-49ec-9fe6-e50fd91c1538"
   },
   "outputs": [
    {
     "name": "stdout",
     "output_type": "stream",
     "text": [
      "array a:  [0.  0.5 1.  1.5 2.  2.5]\n",
      "array b:  [1.  1.5 2.  2.5 3.  3.5]\n"
     ]
    },
    {
     "data": {
      "text/plain": [
       "array([0.  , 0.75, 2.  , 3.75, 6.  , 8.75])"
      ]
     },
     "execution_count": 26,
     "metadata": {},
     "output_type": "execute_result"
    }
   ],
   "source": [
    "#Unlike MATLAB, operator * is not matrix multiplication but elementwise multiplication.\n",
    "print('array a: ', a)\n",
    "print('array b: ', b)\n",
    "a * b"
   ]
  },
  {
   "cell_type": "code",
   "execution_count": 27,
   "metadata": {
    "colab": {
     "base_uri": "https://localhost:8080/",
     "height": 143
    },
    "colab_type": "code",
    "id": "58MCYFcTjbUH",
    "outputId": "d1e59d47-b98a-49ec-9fe6-e50fd91c1538"
   },
   "outputs": [
    {
     "data": {
      "text/plain": [
       "21.25"
      ]
     },
     "execution_count": 27,
     "metadata": {},
     "output_type": "execute_result"
    }
   ],
   "source": [
    "# Instead, we use the dot function to compute inner products of vectors, \n",
    "# to multiply a vector by a matrix and to multiply matrices.\n",
    "np.dot(a, b)"
   ]
  },
  {
   "cell_type": "code",
   "execution_count": 28,
   "metadata": {
    "colab": {
     "base_uri": "https://localhost:8080/",
     "height": 125
    },
    "colab_type": "code",
    "id": "WuwHj6LKyDdl",
    "outputId": "03068c04-091c-4a46-defd-181b4cf7f9e0"
   },
   "outputs": [
    {
     "data": {
      "text/plain": [
       "array([[29, 37],\n",
       "       [12, 15]])"
      ]
     },
     "execution_count": 28,
     "metadata": {},
     "output_type": "execute_result"
    }
   ],
   "source": [
    "#You can perform matrix operations\n",
    "\n",
    "a = np.array([[2,5],[1,2]])\n",
    "b = np.array([[2,1],[5,7]])\n",
    "\n",
    "np.matmul(a,b) #Matrix Product"
   ]
  },
  {
   "cell_type": "code",
   "execution_count": 29,
   "metadata": {},
   "outputs": [
    {
     "data": {
      "text/plain": [
       "array([[29, 37],\n",
       "       [12, 15]])"
      ]
     },
     "execution_count": 29,
     "metadata": {},
     "output_type": "execute_result"
    }
   ],
   "source": [
    "# you can also use np.dot() method and @ keyword (@ works in python3.x version)\n",
    "np.dot(a, b)"
   ]
  },
  {
   "cell_type": "code",
   "execution_count": 30,
   "metadata": {},
   "outputs": [
    {
     "data": {
      "text/plain": [
       "array([[29, 37],\n",
       "       [12, 15]])"
      ]
     },
     "execution_count": 30,
     "metadata": {},
     "output_type": "execute_result"
    }
   ],
   "source": [
    "a@b"
   ]
  },
  {
   "cell_type": "code",
   "execution_count": 31,
   "metadata": {
    "colab": {
     "base_uri": "https://localhost:8080/",
     "height": 125
    },
    "colab_type": "code",
    "id": "WuwHj6LKyDdl",
    "outputId": "03068c04-091c-4a46-defd-181b4cf7f9e0"
   },
   "outputs": [
    {
     "data": {
      "text/plain": [
       "array([[ 4,  5],\n",
       "       [ 5, 14]])"
      ]
     },
     "execution_count": 31,
     "metadata": {},
     "output_type": "execute_result"
    }
   ],
   "source": [
    "a * b #Elementwise Product"
   ]
  },
  {
   "cell_type": "code",
   "execution_count": 32,
   "metadata": {
    "colab": {
     "base_uri": "https://localhost:8080/",
     "height": 125
    },
    "colab_type": "code",
    "id": "WuwHj6LKyDdl",
    "outputId": "03068c04-091c-4a46-defd-181b4cf7f9e0"
   },
   "outputs": [
    {
     "data": {
      "text/plain": [
       "array([[2, 1],\n",
       "       [5, 2]])"
      ]
     },
     "execution_count": 32,
     "metadata": {},
     "output_type": "execute_result"
    }
   ],
   "source": [
    "a.transpose() #transpose the array"
   ]
  },
  {
   "cell_type": "markdown",
   "metadata": {},
   "source": [
    "**Numpy methods for various operations**\n",
    "\n",
    "You can use both ```np.method()``` method and ```np.ndarray.method()```."
   ]
  },
  {
   "cell_type": "code",
   "execution_count": 33,
   "metadata": {
    "colab": {
     "base_uri": "https://localhost:8080/",
     "height": 161
    },
    "colab_type": "code",
    "id": "pNH5HhzM5u2F",
    "outputId": "913bc47c-6d8c-4901-e763-c399e5ea26f3"
   },
   "outputs": [
    {
     "data": {
      "text/plain": [
       "array([[ 0,  1,  2,  3,  4,  5],\n",
       "       [ 6,  7,  8,  9, 10, 11],\n",
       "       [12, 13, 14, 15, 16, 17]])"
      ]
     },
     "execution_count": 33,
     "metadata": {},
     "output_type": "execute_result"
    }
   ],
   "source": [
    "c = np.arange(18).reshape(3,6)\n",
    "c"
   ]
  },
  {
   "cell_type": "code",
   "execution_count": 34,
   "metadata": {
    "colab": {
     "base_uri": "https://localhost:8080/",
     "height": 161
    },
    "colab_type": "code",
    "id": "pNH5HhzM5u2F",
    "outputId": "913bc47c-6d8c-4901-e763-c399e5ea26f3"
   },
   "outputs": [
    {
     "name": "stdout",
     "output_type": "stream",
     "text": [
      "max value of each column:  [12 13 14 15 16 17]\n",
      "min value of each row: [ 0  6 12]\n",
      "sums of each row: [15 51 87]\n",
      "sums of all elements: 153\n",
      "max value of array (matrix) c: 17\n"
     ]
    }
   ],
   "source": [
    "# using np.ndarray.method()\n",
    "print('max value of each column: ', c.max(axis = 0)) # max of each column\n",
    "print('min value of each row:', c.min(axis = 1)) # min of each row\n",
    "print('sums of each row:', c.sum(axis = 1)) # sum of each row\n",
    "print('sums of all elements:', c.sum()) # sum of all elements\n",
    "print('max value of array (matrix) c:', c.max()) # max of c"
   ]
  },
  {
   "cell_type": "code",
   "execution_count": 35,
   "metadata": {},
   "outputs": [
    {
     "data": {
      "text/plain": [
       "array([18, 21, 24, 27, 30, 33])"
      ]
     },
     "execution_count": 35,
     "metadata": {},
     "output_type": "execute_result"
    }
   ],
   "source": [
    "# you can also use np.method()\n",
    "np.sum(c, axis=0)"
   ]
  },
  {
   "cell_type": "code",
   "execution_count": 36,
   "metadata": {},
   "outputs": [
    {
     "data": {
      "text/plain": [
       "17"
      ]
     },
     "execution_count": 36,
     "metadata": {},
     "output_type": "execute_result"
    }
   ],
   "source": [
    "np.max(c)"
   ]
  },
  {
   "cell_type": "code",
   "execution_count": 37,
   "metadata": {},
   "outputs": [
    {
     "data": {
      "text/plain": [
       "array([[18, 21, 24, 27, 30, 33]])"
      ]
     },
     "execution_count": 37,
     "metadata": {},
     "output_type": "execute_result"
    }
   ],
   "source": [
    "# take operation while keeping dimension\n",
    "np.sum(c, axis=0, keepdims=True)"
   ]
  },
  {
   "cell_type": "code",
   "execution_count": 38,
   "metadata": {},
   "outputs": [
    {
     "data": {
      "text/plain": [
       "array([[15],\n",
       "       [51],\n",
       "       [87]])"
      ]
     },
     "execution_count": 38,
     "metadata": {},
     "output_type": "execute_result"
    }
   ],
   "source": [
    "np.sum(c, axis=1, keepdims=True)"
   ]
  },
  {
   "cell_type": "markdown",
   "metadata": {
    "colab_type": "text",
    "id": "wm5gY8i1pjZ1"
   },
   "source": [
    "**Broadcasting**"
   ]
  },
  {
   "cell_type": "code",
   "execution_count": 39,
   "metadata": {
    "colab": {
     "base_uri": "https://localhost:8080/",
     "height": 125
    },
    "colab_type": "code",
    "id": "Q2wGIuKzpoAW",
    "outputId": "5465087b-e2e8-422a-f2f3-9cebce926522"
   },
   "outputs": [
    {
     "data": {
      "text/plain": [
       "array([[ 0,  1,  2,  3,  4,  5],\n",
       "       [ 6,  7,  8,  9, 10, 11],\n",
       "       [12, 13, 14, 15, 16, 17]])"
      ]
     },
     "execution_count": 39,
     "metadata": {},
     "output_type": "execute_result"
    }
   ],
   "source": [
    "#Broadcasting is a powerful mechanism that allows numpy to work with arrays of different shapes when computing mathematical operations.\n",
    "\n",
    "a = np.arange(18).reshape((3,6))\n",
    "a # (3, 6) shape"
   ]
  },
  {
   "cell_type": "code",
   "execution_count": 40,
   "metadata": {
    "colab": {
     "base_uri": "https://localhost:8080/",
     "height": 125
    },
    "colab_type": "code",
    "id": "Q2wGIuKzpoAW",
    "outputId": "5465087b-e2e8-422a-f2f3-9cebce926522"
   },
   "outputs": [
    {
     "data": {
      "text/plain": [
       "array([[ 0,  5, 10, 15, 20, 25],\n",
       "       [30, 35, 40, 45, 50, 55],\n",
       "       [60, 65, 70, 75, 80, 85]])"
      ]
     },
     "execution_count": 40,
     "metadata": {},
     "output_type": "execute_result"
    }
   ],
   "source": [
    "a * 5  # multiply with scalar -> convert to (3, 6) shape"
   ]
  },
  {
   "cell_type": "code",
   "execution_count": 41,
   "metadata": {
    "colab": {
     "base_uri": "https://localhost:8080/",
     "height": 89
    },
    "colab_type": "code",
    "id": "s2wnXWK_q8wu",
    "outputId": "83445870-a8af-4279-97d0-85954e9d8e3c"
   },
   "outputs": [
    {
     "data": {
      "text/plain": [
       "array([[ 0,  1,  4,  9, 16, 25],\n",
       "       [ 0,  7, 16, 27, 40, 55],\n",
       "       [ 0, 13, 28, 45, 64, 85]])"
      ]
     },
     "execution_count": 41,
     "metadata": {},
     "output_type": "execute_result"
    }
   ],
   "source": [
    "a * np.arange(6) # multiply with (6) shape -> also convert to (3, 6) shape"
   ]
  },
  {
   "cell_type": "code",
   "execution_count": 42,
   "metadata": {
    "colab": {
     "base_uri": "https://localhost:8080/",
     "height": 125
    },
    "colab_type": "code",
    "id": "8nAH_YVQq_xV",
    "outputId": "e8a39468-9642-4088-8088-4fe715a217cb"
   },
   "outputs": [
    {
     "name": "stdout",
     "output_type": "stream",
     "text": [
      "b\n",
      " array([0, 1, 2, 3, 4, 5])\n",
      "c\n",
      " array([[0],\n",
      "       [1],\n",
      "       [2]])\n"
     ]
    }
   ],
   "source": [
    "b = np.arange(6)\n",
    "print('b\\n', b.__repr__())  # (6,) shape\n",
    "c = np.arange(3).reshape(3, 1)\n",
    "print('c\\n', c.__repr__())  # (3, 1) shape"
   ]
  },
  {
   "cell_type": "code",
   "execution_count": 43,
   "metadata": {
    "colab": {
     "base_uri": "https://localhost:8080/",
     "height": 125
    },
    "colab_type": "code",
    "id": "8nAH_YVQq_xV",
    "outputId": "e8a39468-9642-4088-8088-4fe715a217cb"
   },
   "outputs": [
    {
     "data": {
      "text/plain": [
       "array([[ 0,  0,  0,  0,  0,  0],\n",
       "       [ 0,  1,  2,  3,  4,  5],\n",
       "       [ 0,  2,  4,  6,  8, 10]])"
      ]
     },
     "execution_count": 43,
     "metadata": {},
     "output_type": "execute_result"
    }
   ],
   "source": [
    "b * c"
   ]
  },
  {
   "cell_type": "code",
   "execution_count": 44,
   "metadata": {},
   "outputs": [
    {
     "name": "stdout",
     "output_type": "stream",
     "text": [
      "shape of a:  (5, 1, 3, 1)\n",
      "shape of b:  (2, 1, 4)\n"
     ]
    }
   ],
   "source": [
    "# Broadcasting with multidimensional arrays\n",
    "a = np.arange(15).reshape(5, 1, 3, 1)\n",
    "b = np.arange(8).reshape(2, 1, 4)\n",
    "print('shape of a: ', a.shape)\n",
    "print('shape of b: ', b.shape)"
   ]
  },
  {
   "cell_type": "code",
   "execution_count": 45,
   "metadata": {},
   "outputs": [
    {
     "data": {
      "text/plain": [
       "(5, 2, 3, 4)"
      ]
     },
     "execution_count": 45,
     "metadata": {},
     "output_type": "execute_result"
    }
   ],
   "source": [
    "# check dimension of a * b\n",
    "(a * b).shape"
   ]
  },
  {
   "cell_type": "code",
   "execution_count": 46,
   "metadata": {},
   "outputs": [],
   "source": [
    "# Question: how rule of broadcasting works?\n",
    "# does it work for (5, 1, 3, 2) with (2, 1, 4) shape of tensor? -> No (why?)"
   ]
  },
  {
   "cell_type": "markdown",
   "metadata": {
    "colab_type": "text",
    "id": "mBZ_TVnpkll6"
   },
   "source": [
    "**Stacking Arrays**"
   ]
  },
  {
   "cell_type": "code",
   "execution_count": 47,
   "metadata": {
    "colab": {
     "base_uri": "https://localhost:8080/",
     "height": 287
    },
    "colab_type": "code",
    "id": "g8wPHoLg6O3E",
    "outputId": "bcc1d291-a89d-468b-c7de-6058194d3b48"
   },
   "outputs": [
    {
     "name": "stdout",
     "output_type": "stream",
     "text": [
      "a: \n",
      " array([[ 0,  1,  2,  3],\n",
      "       [ 4,  5,  6,  7],\n",
      "       [ 8,  9, 10, 11]])\n",
      "b: \n",
      " array([[1., 1., 1., 1.],\n",
      "       [1., 1., 1., 1.]])\n",
      "c: \n",
      " array([[1., 1.],\n",
      "       [1., 1.],\n",
      "       [1., 1.]])\n"
     ]
    }
   ],
   "source": [
    "#You can stack arrays horizontally or vertically\n",
    "\n",
    "a = np.arange(12).reshape(3, 4)\n",
    "print('a: \\n', a.__repr__())\n",
    "b = np.ones((2, 4))\n",
    "print('b: \\n', b.__repr__())\n",
    "c = np.ones((3, 2))\n",
    "print('c: \\n', c.__repr__())"
   ]
  },
  {
   "cell_type": "code",
   "execution_count": 48,
   "metadata": {
    "colab": {
     "base_uri": "https://localhost:8080/",
     "height": 287
    },
    "colab_type": "code",
    "id": "g8wPHoLg6O3E",
    "outputId": "bcc1d291-a89d-468b-c7de-6058194d3b48"
   },
   "outputs": [
    {
     "data": {
      "text/plain": [
       "array([[ 0.,  1.,  2.,  3.],\n",
       "       [ 4.,  5.,  6.,  7.],\n",
       "       [ 8.,  9., 10., 11.],\n",
       "       [ 1.,  1.,  1.,  1.],\n",
       "       [ 1.,  1.,  1.,  1.]])"
      ]
     },
     "execution_count": 48,
     "metadata": {},
     "output_type": "execute_result"
    }
   ],
   "source": [
    "np.vstack((a,b)) # stack array vertically"
   ]
  },
  {
   "cell_type": "code",
   "execution_count": 49,
   "metadata": {
    "colab": {
     "base_uri": "https://localhost:8080/",
     "height": 287
    },
    "colab_type": "code",
    "id": "g8wPHoLg6O3E",
    "outputId": "bcc1d291-a89d-468b-c7de-6058194d3b48"
   },
   "outputs": [
    {
     "data": {
      "text/plain": [
       "array([[ 0.,  1.,  2.,  3.,  1.,  1.],\n",
       "       [ 4.,  5.,  6.,  7.,  1.,  1.],\n",
       "       [ 8.,  9., 10., 11.,  1.,  1.]])"
      ]
     },
     "execution_count": 49,
     "metadata": {},
     "output_type": "execute_result"
    }
   ],
   "source": [
    "np.hstack((a,c)) # stack array horizontally"
   ]
  },
  {
   "cell_type": "markdown",
   "metadata": {},
   "source": [
    "**Boolean Array Indexing (Masking)**"
   ]
  },
  {
   "cell_type": "code",
   "execution_count": 50,
   "metadata": {},
   "outputs": [
    {
     "name": "stdout",
     "output_type": "stream",
     "text": [
      "a: \n",
      " array([[1, 2, 3],\n",
      "       [4, 5, 6],\n",
      "       [7, 8, 9]])\n"
     ]
    }
   ],
   "source": [
    "a = np.arange(1, 10).reshape(3, 3)\n",
    "print('a: \\n', a.__repr__())"
   ]
  },
  {
   "cell_type": "code",
   "execution_count": 51,
   "metadata": {},
   "outputs": [
    {
     "name": "stdout",
     "output_type": "stream",
     "text": [
      "array([[False,  True, False],\n",
      "       [ True, False,  True],\n",
      "       [False,  True, False]])\n"
     ]
    }
   ],
   "source": [
    "# Support element-wise logical operation (return as True or False)\n",
    "even = a % 2 == 0\n",
    "print(even.__repr__())"
   ]
  },
  {
   "cell_type": "code",
   "execution_count": 52,
   "metadata": {},
   "outputs": [
    {
     "data": {
      "text/plain": [
       "array([2, 4, 6, 8])"
      ]
     },
     "execution_count": 52,
     "metadata": {},
     "output_type": "execute_result"
    }
   ],
   "source": [
    "# indexing the elements corresponding to its True boolean index and return as a rank 1 array \n",
    "a[even]"
   ]
  },
  {
   "cell_type": "markdown",
   "metadata": {
    "colab_type": "text",
    "id": "YWl2YSMh9jY3"
   },
   "source": [
    "**Copy in numpy**"
   ]
  },
  {
   "cell_type": "code",
   "execution_count": 53,
   "metadata": {
    "colab": {
     "base_uri": "https://localhost:8080/",
     "height": 143
    },
    "colab_type": "code",
    "id": "5Z9CfjBk8pVU",
    "outputId": "63e1fa11-227f-4463-c937-80f925377b0e"
   },
   "outputs": [
    {
     "name": "stdout",
     "output_type": "stream",
     "text": [
      "b: \n",
      " array([[0., 0.],\n",
      "       [0., 0.]])\n",
      "b: \n",
      " array([[0., 0.],\n",
      "       [0., 1.]])\n",
      "a: \n",
      " array([[0., 0.],\n",
      "       [0., 1.]])\n",
      "shape of a:  (1, 4)\n"
     ]
    }
   ],
   "source": [
    "#There are 3 cases of copying ndarray in numpy\n",
    "\n",
    "#Case 1\n",
    "\n",
    "a = np.zeros((2,2))\n",
    "b = a #No copy at all # Share both the data and properties(e.g., dimension of array)\n",
    "print('b: \\n', b.__repr__())\n",
    "\n",
    "b[1,1] = 1\n",
    "print('b: \\n', b.__repr__())\n",
    "print('a: \\n', a.__repr__()) # a is also changed\n",
    "\n",
    "\n",
    "b.shape = (1,4)\n",
    "print('shape of a: ', a.shape) #The shape of a is also changed"
   ]
  },
  {
   "cell_type": "code",
   "execution_count": 54,
   "metadata": {
    "colab": {
     "base_uri": "https://localhost:8080/",
     "height": 143
    },
    "colab_type": "code",
    "id": "gf89X3s-0KyY",
    "outputId": "e48ac95f-1f30-4b94-d1c3-49a9b82ee3c6"
   },
   "outputs": [
    {
     "name": "stdout",
     "output_type": "stream",
     "text": [
      "b: \n",
      " array([[0., 0.],\n",
      "       [0., 0.]])\n",
      "b: \n",
      " array([[0., 0.],\n",
      "       [0., 1.]])\n",
      "a: \n",
      " array([[0., 0.],\n",
      "       [0., 1.]])\n",
      "shape of a:  (2, 2)\n"
     ]
    }
   ],
   "source": [
    "#Case 2 : Shallow copy\n",
    "\n",
    "a = np.zeros((2,2))\n",
    "b = a.view() #Shallow copy # Share the data but not properties(e.g., dimension of array)\n",
    "print('b: \\n', b.__repr__())\n",
    "\n",
    "b[1,1] = 1\n",
    "print('b: \\n', b.__repr__())\n",
    "print('a: \\n', a.__repr__()) # a is also changed!!\n",
    "\n",
    "b.shape = (1,4)\n",
    "print('shape of a: ', a.shape) #The shape of a is not changed"
   ]
  },
  {
   "cell_type": "code",
   "execution_count": 55,
   "metadata": {
    "colab": {
     "base_uri": "https://localhost:8080/",
     "height": 125
    },
    "colab_type": "code",
    "id": "hRSify8d9qNT",
    "outputId": "7112bacb-070b-4916-a299-808d1af0e9b9"
   },
   "outputs": [
    {
     "name": "stdout",
     "output_type": "stream",
     "text": [
      "c: \n",
      " array([[0., 0.],\n",
      "       [0., 0.]])\n",
      "c: \n",
      " array([[0., 0.],\n",
      "       [0., 1.]])\n",
      "a: \n",
      " array([[0., 0.],\n",
      "       [0., 0.]])\n"
     ]
    }
   ],
   "source": [
    "#Case 3 : Deep copy\n",
    "\n",
    "a=np.zeros((2,2))\n",
    "c = a.copy() #Deep copy # Create an independet variable not sharing both the data and properties\n",
    "print('c: \\n', c.__repr__())\n",
    "\n",
    "c[1,1] =1\n",
    "print('c: \\n', c.__repr__())\n",
    "print('a: \\n', a.__repr__()) # a is not changed"
   ]
  },
  {
   "cell_type": "markdown",
   "metadata": {
    "colab_type": "text",
    "id": "Pkgk-rayeCZa"
   },
   "source": [
    "### References\n",
    "\n",
    "https://cs231n.github.io/python-numpy-tutorial/#numpy\n",
    "\n",
    "http://aikorea.org/cs231n/python-numpy-tutorial/\n",
    "\n",
    "https://nbviewer.jupyter.org/gist/FinanceData/274d1a051b8ef10379b35b3fa72dd931"
   ]
  },
  {
   "cell_type": "code",
   "execution_count": null,
   "metadata": {
    "colab": {},
    "colab_type": "code",
    "id": "Nx-fsdh_-g16"
   },
   "outputs": [],
   "source": []
  }
 ],
 "metadata": {
  "colab": {
   "collapsed_sections": [],
   "name": "Numpy_Exercise.ipynb",
   "provenance": []
  },
  "kernelspec": {
   "display_name": "Python 3",
   "language": "python",
   "name": "python3"
  },
  "language_info": {
   "codemirror_mode": {
    "name": "ipython",
    "version": 3
   },
   "file_extension": ".py",
   "mimetype": "text/x-python",
   "name": "python",
   "nbconvert_exporter": "python",
   "pygments_lexer": "ipython3",
   "version": "3.6.9"
  }
 },
 "nbformat": 4,
 "nbformat_minor": 1
}
