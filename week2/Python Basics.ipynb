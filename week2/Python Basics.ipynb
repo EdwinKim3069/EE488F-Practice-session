{
 "cells": [
  {
   "cell_type": "markdown",
   "metadata": {},
   "source": [
    "### Basic Data Types\n",
    "\n",
    "In programming terminology, they are also commonly known as literals. Literals can be of different types for e.g 1, 11  are of type int, 3.14 is a float and \"hello\" is a string. Remember that in Python everything is object even basic data types like int, float, string, we will elaborate more on this in later chapters.\n",
    "\n",
    "In Python, you don't need to declare types of variables ahead of time. The interpreter automatically detects the type of the variable by the data it contains. To assign value to a variable equal sign (=) is used. The = sign is also known as the assignment operator."
   ]
  },
  {
   "cell_type": "code",
   "execution_count": null,
   "metadata": {},
   "outputs": [],
   "source": [
    "# The following are some examples of variable declaration:\n",
    "\n",
    "x = 100                       # x is integer\n",
    "pi = 3.14                     # pi is float\n",
    "empname = \"python is great\"   # empname is string\n",
    "is_true = True               # is_true is bool\n",
    "\n",
    "a = b = c = 100               # this statement assign 100 to c, b and a."
   ]
  },
  {
   "cell_type": "code",
   "execution_count": null,
   "metadata": {},
   "outputs": [],
   "source": [
    "# python assignments\n",
    "\n",
    "c, d = 3, 4        # unpacking\n",
    "x = y = z = 0      # multiple assignment\n",
    "e = 3.5; f = 5.6   # semicolon seperates the simple statement on the same line\n",
    "e, f = f, e        # value exchange\n",
    "a, *b = [1, 2, 3, 4, 5] # extended unpacking\n",
    "\n",
    "print(a, b, sep='\\n')"
   ]
  },
  {
   "cell_type": "code",
   "execution_count": null,
   "metadata": {},
   "outputs": [],
   "source": [
    "# str() method returns a string version of object\n",
    "str(12345)"
   ]
  },
  {
   "cell_type": "code",
   "execution_count": null,
   "metadata": {},
   "outputs": [],
   "source": [
    "# check data type\n",
    "a = 1\n",
    "type(a)"
   ]
  },
  {
   "cell_type": "code",
   "execution_count": null,
   "metadata": {},
   "outputs": [],
   "source": [
    "# Augmented assignment operators\n",
    "# +=, -=. *=, /=, //=, &=. **=. >>=, <<=, &=, ^=, |=\n",
    "a += 2\n",
    "print(a)"
   ]
  },
  {
   "cell_type": "code",
   "execution_count": null,
   "metadata": {},
   "outputs": [],
   "source": [
    "# format method\n",
    "# format(value, format_spec)\n",
    "\n",
    "print(format(3.141592, '10.3f'))  # input spec argument as string format"
   ]
  },
  {
   "cell_type": "code",
   "execution_count": null,
   "metadata": {},
   "outputs": [],
   "source": [
    "# fancier usage of format\n",
    "\n",
    "'Name : {0}, Student_ID : {1}'.format('your name', 1234)"
   ]
  },
  {
   "cell_type": "code",
   "execution_count": null,
   "metadata": {
    "scrolled": true
   },
   "outputs": [],
   "source": [
    "# want to know bool?\n",
    "# try to print the following\n",
    "\n",
    "bool(3)  # True\n",
    "bool(0)  # False\n",
    "bool([]) # False"
   ]
  },
  {
   "cell_type": "markdown",
   "metadata": {},
   "source": [
    "### String\n",
    "\n",
    "   1. There are six sequence types in python: strings, Unicode strings, lists, tuples, buffers, and xrange objects.\n",
    "   1. Some common operations for the sequence type object can work on both mutable and immutable sequences."
   ]
  },
  {
   "cell_type": "code",
   "execution_count": null,
   "metadata": {},
   "outputs": [],
   "source": [
    "# string basics & operations\n",
    "\n",
    "s = 'Machine Learning'\n",
    "len(s)  # length of the string"
   ]
  },
  {
   "cell_type": "code",
   "execution_count": null,
   "metadata": {},
   "outputs": [],
   "source": [
    "'Machine' in s  # check whether the substring is in s"
   ]
  },
  {
   "cell_type": "code",
   "execution_count": null,
   "metadata": {},
   "outputs": [],
   "source": [
    "# Return a copy of the string with all the cased characters converted to uppercase\n",
    "s.upper()"
   ]
  },
  {
   "cell_type": "code",
   "execution_count": null,
   "metadata": {},
   "outputs": [],
   "source": [
    "# convert to lowercase\n",
    "s.lower()"
   ]
  },
  {
   "cell_type": "code",
   "execution_count": null,
   "metadata": {},
   "outputs": [],
   "source": [
    "# Return a list of the words in the string, using sep as the delimiter string\n",
    "s.split(sep='e')"
   ]
  },
  {
   "cell_type": "code",
   "execution_count": null,
   "metadata": {},
   "outputs": [],
   "source": [
    "# If sep is not specified or is None, runs of consecutive whitespace are regarded as a single separator\n",
    "s.split()"
   ]
  },
  {
   "cell_type": "code",
   "execution_count": null,
   "metadata": {},
   "outputs": [],
   "source": [
    "# Return the lowest index in the string where substring is found within the slice s[start:end]\n",
    "s.find('ear')"
   ]
  },
  {
   "cell_type": "code",
   "execution_count": null,
   "metadata": {},
   "outputs": [],
   "source": [
    "# concatenate two sequences a and b\n",
    "a = 'Machine'\n",
    "b = 'Learning'\n",
    "a + b"
   ]
  },
  {
   "cell_type": "code",
   "execution_count": null,
   "metadata": {},
   "outputs": [],
   "source": [
    "# add sequence a with itself n times\n",
    "a * 3"
   ]
  },
  {
   "cell_type": "code",
   "execution_count": null,
   "metadata": {},
   "outputs": [],
   "source": [
    "# indexing; i'th item of the sequence\n",
    "s[9]  # seq[i]"
   ]
  },
  {
   "cell_type": "code",
   "execution_count": null,
   "metadata": {},
   "outputs": [],
   "source": [
    "# slicing; slice sequence from index i to j with step k\n",
    "s[2:10:2]  # seq[i:j:k]"
   ]
  },
  {
   "cell_type": "code",
   "execution_count": null,
   "metadata": {},
   "outputs": [],
   "source": [
    "# string is immutable data type\n",
    "s[0] = 'm'"
   ]
  },
  {
   "cell_type": "code",
   "execution_count": null,
   "metadata": {},
   "outputs": [],
   "source": [
    "# change the string? -> use slicing, create new object of string and reassign\n",
    "s = 'm' + s[1:]\n",
    "s"
   ]
  },
  {
   "cell_type": "markdown",
   "metadata": {},
   "source": [
    "### Python Numbers\n",
    "\n",
    "This data type supports only numerical values like 1, 31.4, -1000, 0.000023, 88888888\n",
    "\n",
    "Python supports 3 different numerical types.\n",
    "\n",
    "    1. int - for integer values like 1, 100, 2255, -999999, 0, 12345678\n",
    "    2. float - for floating-point values like 2.3, 3.14, 2.71, -11.0\n",
    "    3. complex - for complex numbers like 3+2j, -2+2.3j, 10j, 4.5+3.14j"
   ]
  },
  {
   "cell_type": "code",
   "execution_count": null,
   "metadata": {},
   "outputs": [],
   "source": [
    "# int type\n",
    "\n",
    "a = 1234\n",
    "type(a)"
   ]
  },
  {
   "cell_type": "code",
   "execution_count": null,
   "metadata": {},
   "outputs": [],
   "source": [
    "isinstance(a, int) # check data type"
   ]
  },
  {
   "cell_type": "code",
   "execution_count": null,
   "metadata": {},
   "outputs": [],
   "source": [
    "# int() method :  conver to int data type\n",
    "int(3.2)"
   ]
  },
  {
   "cell_type": "code",
   "execution_count": null,
   "metadata": {},
   "outputs": [],
   "source": [
    "int(-3.9)"
   ]
  },
  {
   "cell_type": "code",
   "execution_count": null,
   "metadata": {},
   "outputs": [],
   "source": [
    "int('1234')"
   ]
  },
  {
   "cell_type": "code",
   "execution_count": null,
   "metadata": {},
   "outputs": [],
   "source": [
    "# try to convert string type of float to int type\n",
    "int(float('123.45'))"
   ]
  },
  {
   "cell_type": "code",
   "execution_count": null,
   "metadata": {},
   "outputs": [],
   "source": [
    "# convert int type to other data type\n",
    "a = 1234\n",
    "float(a)"
   ]
  },
  {
   "cell_type": "code",
   "execution_count": null,
   "metadata": {},
   "outputs": [],
   "source": [
    "str(a)"
   ]
  },
  {
   "cell_type": "code",
   "execution_count": null,
   "metadata": {},
   "outputs": [],
   "source": [
    "complex(a)"
   ]
  },
  {
   "cell_type": "code",
   "execution_count": null,
   "metadata": {},
   "outputs": [],
   "source": [
    "# float type\n",
    "\n",
    "a = 3.14\n",
    "isinstance(a, float)"
   ]
  },
  {
   "cell_type": "code",
   "execution_count": null,
   "metadata": {},
   "outputs": [],
   "source": [
    "# we can express infinity as follows\n",
    "float('inf'), float('-inf')"
   ]
  },
  {
   "cell_type": "code",
   "execution_count": null,
   "metadata": {},
   "outputs": [],
   "source": [
    "a.is_integer()"
   ]
  },
  {
   "cell_type": "code",
   "execution_count": null,
   "metadata": {},
   "outputs": [],
   "source": [
    "a = 3.0  # float\n",
    "a.is_integer()"
   ]
  },
  {
   "cell_type": "code",
   "execution_count": null,
   "metadata": {},
   "outputs": [],
   "source": [
    "# complex type\n",
    "\n",
    "a = 3 + 4j\n",
    "b = 2 - 3j\n",
    "a * b"
   ]
  },
  {
   "cell_type": "code",
   "execution_count": null,
   "metadata": {},
   "outputs": [],
   "source": [
    "# call attribute of real part\n",
    "a.real"
   ]
  },
  {
   "cell_type": "code",
   "execution_count": null,
   "metadata": {},
   "outputs": [],
   "source": [
    "# call attribute of imaginary part\n",
    "a.imag"
   ]
  },
  {
   "cell_type": "code",
   "execution_count": null,
   "metadata": {},
   "outputs": [],
   "source": [
    "# convert to conjugate \n",
    "a.conjugate()"
   ]
  },
  {
   "cell_type": "code",
   "execution_count": null,
   "metadata": {},
   "outputs": [],
   "source": [
    "# arithmetic operator\n",
    "\n",
    "a = 10; b = 20\n",
    "\n",
    "print(a + b) # addition\n",
    "print(a - b) # subtraction\n",
    "print(a * b) # multiplication\n",
    "print(b / a) # division\n",
    "print(b & a) # modulus\n",
    "print(a ** b) # sxponent\n",
    "print(b // a) # floor division"
   ]
  },
  {
   "cell_type": "code",
   "execution_count": null,
   "metadata": {},
   "outputs": [],
   "source": [
    "# comparison operators\n",
    "\n",
    "print(a == b) # check whether the two operands are equal\n",
    "print(a != b) # check whether the two operands are not equal\n",
    "print(a > b) # check whether the left operand is greater than the right operand\n",
    "print(a < b) # check whether the left operand is less than the right operand\n",
    "print(a >= b) # check whether the left operand is greater than or equal to the right operand\n",
    "print(a <= b) # check whether the left operand is less than or equal to the right operand"
   ]
  },
  {
   "cell_type": "code",
   "execution_count": null,
   "metadata": {},
   "outputs": [],
   "source": [
    "# logical operators\n",
    "# not necessarily return bool type\n",
    "\n",
    "print(a and b)  # If both the operands are true then condition becomes true\n",
    "print(a or b)   # If any of the two operands are non-zero then condition becomes true\n",
    "print(not (a or b))  # Used to reverse the logical state of its operand."
   ]
  },
  {
   "cell_type": "markdown",
   "metadata": {},
   "source": [
    "### Categorization of Data Types\n",
    "\n",
    "\n",
    "**1. Direct type** : supported type of python number\n",
    "            ex) int, float, complex\n",
    "\n",
    "**2. Sequence type** : any ordered collection of objects whose contents can be accessed via “indexing\" \n",
    "            ex) list, str, tuple, bytes, bytearray, range\n",
    "\n",
    "**3. Mapping type** : object that maps values of one type (the key type) to arbitrary objects, \n",
    "            ex) dict\n",
    "\n",
    "**4. Set type** : unordered collections of unique elements\n",
    "            ex) set, frozenset"
   ]
  },
  {
   "cell_type": "markdown",
   "metadata": {},
   "source": [
    "### Mutable & Immutable\n",
    "\n",
    "**1. Mutable** : Objects whose value can change\n",
    "            ex) list, dict, set\n",
    "\n",
    "**2. Immutable** : objects whose value is unchangeable once they are created\n",
    "            ex) int, float, complex, str, tuple, frozenset"
   ]
  },
  {
   "cell_type": "markdown",
   "metadata": {},
   "source": [
    "### Scalar(Literal) & Container\n",
    "\n",
    "**1. Literal/Scalar type** : a object has a specific and concrete value \n",
    "            ex) str, bytes, bytearray, int, float, complex\n",
    "            \n",
    "**1. Container type** : any object that holds an arbitrary number of other objects \n",
    "            ex) list, tuple, dict, set, frozenset"
   ]
  },
  {
   "cell_type": "markdown",
   "metadata": {},
   "source": [
    "### List\n",
    "\n",
    "1. As opposed to data types such as int, bool, float, str, a list is a compound data type where you can group values together\n",
    "1. You can create a list with square brackets\n",
    "1. It is also possible for a list to contain different types within it as well"
   ]
  },
  {
   "cell_type": "code",
   "execution_count": null,
   "metadata": {},
   "outputs": [],
   "source": [
    "# create empty list\n",
    "\n",
    "a = []\n",
    "a = list()"
   ]
  },
  {
   "cell_type": "code",
   "execution_count": null,
   "metadata": {},
   "outputs": [],
   "source": [
    "# change the elements in list via indexing\n",
    "\n",
    "a = ['this', 'is', 'a', 'list']\n",
    "a[2] = 10\n",
    "a"
   ]
  },
  {
   "cell_type": "code",
   "execution_count": null,
   "metadata": {},
   "outputs": [],
   "source": [
    "# delete element\n",
    "\n",
    "a[:2] = []\n",
    "a"
   ]
  },
  {
   "cell_type": "code",
   "execution_count": null,
   "metadata": {},
   "outputs": [],
   "source": [
    "# add element\n",
    "\n",
    "a[1:1] = [100, 1234]\n",
    "a"
   ]
  },
  {
   "cell_type": "code",
   "execution_count": null,
   "metadata": {},
   "outputs": [],
   "source": [
    "# slicing from i to j with step k\n",
    "\n",
    "a[::2]  # slicing from start to end with step 2"
   ]
  },
  {
   "cell_type": "code",
   "execution_count": null,
   "metadata": {},
   "outputs": [],
   "source": [
    "# extended slice\n",
    "\n",
    "a[::2] = list(range(2))\n",
    "a"
   ]
  },
  {
   "cell_type": "code",
   "execution_count": null,
   "metadata": {},
   "outputs": [],
   "source": [
    "# delete elements via del keyword\n",
    "\n",
    "del a[0]\n",
    "a"
   ]
  },
  {
   "cell_type": "code",
   "execution_count": null,
   "metadata": {},
   "outputs": [],
   "source": [
    "del a[:2]\n",
    "a"
   ]
  },
  {
   "cell_type": "code",
   "execution_count": null,
   "metadata": {},
   "outputs": [],
   "source": [
    "# nested list\n",
    "a = ['this', 'is', 'a', 'list']\n",
    "b = [1, a, 3]\n",
    "b"
   ]
  },
  {
   "cell_type": "code",
   "execution_count": null,
   "metadata": {},
   "outputs": [],
   "source": [
    "# indexing\n",
    "b[1][1]"
   ]
  },
  {
   "cell_type": "code",
   "execution_count": null,
   "metadata": {},
   "outputs": [],
   "source": [
    "# change element in nested list\n",
    "a[1] = 100\n",
    "b"
   ]
  },
  {
   "cell_type": "code",
   "execution_count": null,
   "metadata": {},
   "outputs": [],
   "source": [
    "# list method (inplace operation)\n",
    "\n",
    "a.append(123) # Add x at the end of the sequence\n",
    "a"
   ]
  },
  {
   "cell_type": "code",
   "execution_count": null,
   "metadata": {},
   "outputs": [],
   "source": [
    "a.insert(3, 1234) # Insert x at the position i, usage: seq.insert(i, x)\n",
    "a"
   ]
  },
  {
   "cell_type": "code",
   "execution_count": null,
   "metadata": {},
   "outputs": [],
   "source": [
    "a.index(1234) # Index of the first occurrence of 1234"
   ]
  },
  {
   "cell_type": "code",
   "execution_count": null,
   "metadata": {},
   "outputs": [],
   "source": [
    "a.count(1234) # Count total number of elements in the sequence"
   ]
  },
  {
   "cell_type": "code",
   "execution_count": null,
   "metadata": {},
   "outputs": [],
   "source": [
    "a.reverse() # Reverse the list, In-place operation\n",
    "a"
   ]
  },
  {
   "cell_type": "code",
   "execution_count": null,
   "metadata": {},
   "outputs": [],
   "source": [
    "a.remove('this') #Remove first occurrence of item \n",
    "a.remove('a')\n",
    "a.remove('list')\n",
    "a"
   ]
  },
  {
   "cell_type": "code",
   "execution_count": null,
   "metadata": {},
   "outputs": [],
   "source": [
    "# Sort the list, In-place operation\n",
    "# If you want to sort Out-of-place, use sorted()\n",
    "\n",
    "print(sorted(a))\n",
    "print(a)\n",
    "\n",
    "a.sort()\n",
    "print(a)"
   ]
  },
  {
   "cell_type": "code",
   "execution_count": null,
   "metadata": {},
   "outputs": [],
   "source": [
    "a.pop() # return the item of last element and also remove from the list\n",
    "a.pop(0) # return the item of i'th item and remove\n",
    "a"
   ]
  },
  {
   "cell_type": "code",
   "execution_count": null,
   "metadata": {},
   "outputs": [],
   "source": [
    "a.extend([12345, 123456]) # extend list\n",
    "a"
   ]
  },
  {
   "cell_type": "code",
   "execution_count": null,
   "metadata": {},
   "outputs": [],
   "source": [
    "# usage with for statement\n",
    "for i in a:\n",
    "    print(i)"
   ]
  },
  {
   "cell_type": "code",
   "execution_count": null,
   "metadata": {},
   "outputs": [],
   "source": [
    "# If reverse is True, iterable would be sorted in reverse(descending) order\n",
    "sorted(a, reverse=True)"
   ]
  },
  {
   "cell_type": "code",
   "execution_count": null,
   "metadata": {},
   "outputs": [],
   "source": [
    "# key argument is a function that serves as a key or a basis of sort comparison\n",
    "\n",
    "def func(a):\n",
    "    return a % 3\n",
    "\n",
    "sorted(a, key=func)"
   ]
  },
  {
   "cell_type": "code",
   "execution_count": null,
   "metadata": {},
   "outputs": [],
   "source": [
    "L = 'Machine learning is my Life'.split()\n",
    "L"
   ]
  },
  {
   "cell_type": "code",
   "execution_count": null,
   "metadata": {},
   "outputs": [],
   "source": [
    "sorted(L) # sorted as alphabetical order"
   ]
  },
  {
   "cell_type": "code",
   "execution_count": null,
   "metadata": {},
   "outputs": [],
   "source": [
    "sorted(L, key=str.lower) # the strings pass to str.lower() method and sorted based on str.lower(word)"
   ]
  },
  {
   "cell_type": "code",
   "execution_count": null,
   "metadata": {},
   "outputs": [],
   "source": [
    "# using lambda function\n",
    "# lambda input: func(input)\n",
    "\n",
    "sorted(L, key=lambda x: len(x)) # sorted based on thier length"
   ]
  },
  {
   "cell_type": "markdown",
   "metadata": {},
   "source": [
    "### Tuple & Set\n",
    "\n",
    "1. Similar to Python lists, tuples are another standard data type that allows you to store values in a sequence    \n",
    "1. Similar to python list, **python tuple** is **ordered** data structure\n",
    "1. How tuple differs from a python list?\n",
    "    - **tuple** is **immutable** data type -> cannot change the element inplace\n",
    "\n",
    "\n",
    "1. **Python set** is **mutable** but **unordered** collection of **unique** element"
   ]
  },
  {
   "cell_type": "code",
   "execution_count": null,
   "metadata": {},
   "outputs": [],
   "source": [
    "# create empty tuple\n",
    "t = ()"
   ]
  },
  {
   "cell_type": "code",
   "execution_count": null,
   "metadata": {},
   "outputs": [],
   "source": [
    "# construct tuple\n",
    "\n",
    "t = (1,) # creating tuple with one element, need a comma\n",
    "t = 1,  # you can create without using parentheses\n",
    "t = (1, 2, 3)\n",
    "t = 1, 2, 3"
   ]
  },
  {
   "cell_type": "code",
   "execution_count": null,
   "metadata": {},
   "outputs": [],
   "source": [
    "# tuple is immutable -> changing the value is not supported (similar to string)\n",
    "t[0] = 10"
   ]
  },
  {
   "cell_type": "code",
   "execution_count": null,
   "metadata": {},
   "outputs": [],
   "source": [
    "# tuple support membership, count, index, slicing.. method\n",
    "# nested tuple is also possible\n",
    "\n",
    "# Packing\n",
    "t = 1, 2, 'python'\n",
    "t"
   ]
  },
  {
   "cell_type": "code",
   "execution_count": null,
   "metadata": {},
   "outputs": [],
   "source": [
    "# Unpacking\n",
    "a, b, c = t\n",
    "print(a)\n",
    "print(b)\n",
    "print(c)"
   ]
  },
  {
   "cell_type": "code",
   "execution_count": null,
   "metadata": {},
   "outputs": [],
   "source": [
    "# list also support unpacking\n",
    "l = [1, 2, 'python']\n",
    "a, b, c = l\n",
    "print(a)\n",
    "print(b)\n",
    "print(c)"
   ]
  },
  {
   "cell_type": "code",
   "execution_count": null,
   "metadata": {},
   "outputs": [],
   "source": [
    "# extended unpacking\n",
    "t = 1, 2, 3, 4, 5  # create tuple\n",
    "a, *b, c = t\n",
    "print(a)\n",
    "print(b)  # b is list\n",
    "print(c)"
   ]
  },
  {
   "cell_type": "code",
   "execution_count": null,
   "metadata": {},
   "outputs": [],
   "source": [
    "# convert to list\n",
    "list(t)"
   ]
  },
  {
   "cell_type": "code",
   "execution_count": null,
   "metadata": {},
   "outputs": [],
   "source": [
    "# tuple as arguments\n",
    "def add_sub(a, b):\n",
    "    return a + b, a - b  # return as tuple type\n",
    "\n",
    "x, y = add_sub(3, 4) # unpacking output\n",
    "print(x, y)"
   ]
  },
  {
   "cell_type": "code",
   "execution_count": null,
   "metadata": {},
   "outputs": [],
   "source": [
    "args = (3, 4)\n",
    "x, y = add_sub(*args) # equivalent to add_sub(3, 4)\n",
    "print(x, y)"
   ]
  },
  {
   "cell_type": "code",
   "execution_count": null,
   "metadata": {},
   "outputs": [],
   "source": [
    "a = set() # create empty set (warning!: '{}' is empty dictionary)\n",
    "a"
   ]
  },
  {
   "cell_type": "code",
   "execution_count": null,
   "metadata": {},
   "outputs": [],
   "source": [
    "b = {1, 2, 4} # create set object\n",
    "b"
   ]
  },
  {
   "cell_type": "code",
   "execution_count": null,
   "metadata": {},
   "outputs": [],
   "source": [
    "# set can be created by iterable object\n",
    "set([1, 2, 3])"
   ]
  },
  {
   "cell_type": "code",
   "execution_count": null,
   "metadata": {},
   "outputs": [],
   "source": [
    "set('string') # string object is also iterable"
   ]
  },
  {
   "cell_type": "code",
   "execution_count": null,
   "metadata": {},
   "outputs": [],
   "source": [
    "# set is collection of 'unique' elements\n",
    "set([1, 2, 3, 1, 2, 3, 1, 2, 3])"
   ]
  },
  {
   "cell_type": "code",
   "execution_count": null,
   "metadata": {},
   "outputs": [],
   "source": [
    "# Only hashable type (equivalent to immutable type) can be a element of set\n",
    "a = [1, 2, 3] # list is unhashable (mutable)\n",
    "b = [3, 4, 5]\n",
    "set([a, b])"
   ]
  },
  {
   "cell_type": "code",
   "execution_count": null,
   "metadata": {},
   "outputs": [],
   "source": [
    "# count the number of elements\n",
    "a = set((1, 2, 3))\n",
    "len(a)"
   ]
  },
  {
   "cell_type": "code",
   "execution_count": null,
   "metadata": {},
   "outputs": [],
   "source": [
    "a.add(4) # add element 4  (In-place operation)\n",
    "a"
   ]
  },
  {
   "cell_type": "code",
   "execution_count": null,
   "metadata": {},
   "outputs": [],
   "source": [
    "a.update([4, 5, 6]) # a U {4, 5, 6}\n",
    "a"
   ]
  },
  {
   "cell_type": "code",
   "execution_count": null,
   "metadata": {},
   "outputs": [],
   "source": [
    "b = {6, 7, 8}\n",
    "c = {8, 9, 10}\n",
    "a.update(b, c) # get more than two arguments\n",
    "a"
   ]
  },
  {
   "cell_type": "code",
   "execution_count": null,
   "metadata": {},
   "outputs": [],
   "source": [
    "# remove the elements -> remove(), discard() method\n",
    "# what's different?\n",
    "a.remove(3)\n",
    "a"
   ]
  },
  {
   "cell_type": "code",
   "execution_count": null,
   "metadata": {},
   "outputs": [],
   "source": [
    "# Out-of-place set operation\n",
    "print(a.union(b)) # a U b\n",
    "print(a.intersection(b)) # a & b\n",
    "print(a.difference(b))  # a - b"
   ]
  },
  {
   "cell_type": "markdown",
   "metadata": {},
   "source": [
    "### Dictionary\n",
    "\n",
    "1. A piece of data or values that can be accessed by a key(word) you have at hand\n",
    "1. You can store the data with key-value pair\n",
    "1. The data structure is like below:\n",
    "\n",
    "```python\n",
    "{key1: value1, key2: value2, ...}\n",
    "```"
   ]
  },
  {
   "cell_type": "code",
   "execution_count": null,
   "metadata": {},
   "outputs": [],
   "source": [
    "a = {} # create empty dictionary\n",
    "a"
   ]
  },
  {
   "cell_type": "code",
   "execution_count": null,
   "metadata": {},
   "outputs": [],
   "source": [
    "# create dict in various ways\n",
    "# the followings are equivalent\n",
    "\n",
    "a = {'apple': 1, 'banana': 2, 'orange': 3}\n",
    "a = dict(apple=1, banana=2, orange=3)\n",
    "a = dict([('apple',1), ('banana',2), ('orange',3)])\n",
    "\n",
    "keys = ['apple', 'banana', 'orange']\n",
    "values = (1, 2, 3)\n",
    "a = dict(zip(keys, values))  # zip return a sequence object of (key, value) pair\n",
    "\n",
    "a"
   ]
  },
  {
   "cell_type": "code",
   "execution_count": null,
   "metadata": {},
   "outputs": [],
   "source": [
    "a['banana'] # search using key"
   ]
  },
  {
   "cell_type": "code",
   "execution_count": null,
   "metadata": {},
   "outputs": [],
   "source": [
    "a['grape'] = 4   # set new key-value\n",
    "a"
   ]
  },
  {
   "cell_type": "code",
   "execution_count": null,
   "metadata": {},
   "outputs": [],
   "source": [
    "a['grape'] = 0 # change the value\n",
    "a"
   ]
  },
  {
   "cell_type": "code",
   "execution_count": null,
   "metadata": {},
   "outputs": [],
   "source": [
    "# length of dict\n",
    "len(a)"
   ]
  },
  {
   "cell_type": "code",
   "execution_count": null,
   "metadata": {},
   "outputs": [],
   "source": [
    "del a['banana'] # delete key\n",
    "a"
   ]
  },
  {
   "cell_type": "code",
   "execution_count": null,
   "metadata": {},
   "outputs": [],
   "source": [
    "# key must be hashable (== immutable) type (list, dict, .. can not be a key)\n",
    "# value can be every data type\n",
    "d = {}\n",
    "d['string'] = 'abc'\n",
    "d[1] = 2\n",
    "d[(1, 2, 3)] = 'tuple'\n",
    "d"
   ]
  },
  {
   "cell_type": "code",
   "execution_count": null,
   "metadata": {},
   "outputs": [],
   "source": [
    "d[[1, 2, 3]] = 'list'"
   ]
  },
  {
   "cell_type": "code",
   "execution_count": null,
   "metadata": {},
   "outputs": [],
   "source": [
    "# even function can be a key or value\n",
    "\n",
    "def add(a, b):\n",
    "    return a + b\n",
    "\n",
    "def sub(a, b):\n",
    "    return a - b\n",
    "\n",
    "d = {'add':add, 'sub':sub}\n",
    "d['add'](4, 5)"
   ]
  },
  {
   "cell_type": "code",
   "execution_count": null,
   "metadata": {},
   "outputs": [],
   "source": [
    "# return keys \n",
    "a.keys()"
   ]
  },
  {
   "cell_type": "code",
   "execution_count": null,
   "metadata": {},
   "outputs": [],
   "source": [
    "# return values\n",
    "a.values()"
   ]
  },
  {
   "cell_type": "code",
   "execution_count": null,
   "metadata": {},
   "outputs": [],
   "source": [
    "# return items\n",
    "a.items()"
   ]
  },
  {
   "cell_type": "code",
   "execution_count": null,
   "metadata": {},
   "outputs": [],
   "source": [
    "# dict can be used as iterable object\n",
    "for key in a:\n",
    "    print(key)"
   ]
  },
  {
   "cell_type": "code",
   "execution_count": null,
   "metadata": {},
   "outputs": [],
   "source": [
    "for (key, value) in a.items():\n",
    "    print(key, value)"
   ]
  },
  {
   "cell_type": "markdown",
   "metadata": {},
   "source": [
    "### File Read & Write\n",
    "\n",
    "Three basic things: how to open, read and write data into flat files"
   ]
  },
  {
   "cell_type": "code",
   "execution_count": null,
   "metadata": {},
   "outputs": [],
   "source": [
    "s = 'Welcome to tutorial on reading and writing files in python!\\n'\n",
    "f = open('text1.txt', 'w') # open file as write only mode"
   ]
  },
  {
   "cell_type": "code",
   "execution_count": null,
   "metadata": {},
   "outputs": [],
   "source": [
    "f.write(s) # write text in txt file and return number of characters"
   ]
  },
  {
   "cell_type": "code",
   "execution_count": null,
   "metadata": {},
   "outputs": [],
   "source": [
    "f.write('Writing new line\\n') # write new line in it\n",
    "f.close()\n",
    "f = open('text1.txt') # open file as read mode\n",
    "print(f.read())"
   ]
  },
  {
   "cell_type": "code",
   "execution_count": null,
   "metadata": {},
   "outputs": [],
   "source": [
    "# write lines with 'with' statement\n",
    "with open('text1.txt', 'w') as f:\n",
    "    f.write('Welcome to tutorial on reading and writing files in python!\\n')"
   ]
  },
  {
   "cell_type": "code",
   "execution_count": null,
   "metadata": {},
   "outputs": [],
   "source": [
    "# file read\n",
    "f = open('text1.txt') # default as read only mode\n",
    "print(f.read())\n",
    "f.close()"
   ]
  },
  {
   "cell_type": "code",
   "execution_count": null,
   "metadata": {},
   "outputs": [],
   "source": [
    "# write multiple lines using writelines method\n",
    "# usage: file.writelines(list)\n",
    "\n",
    "lines = ['Welcome to tutorial', 'on reading and writing', 'files in python!']\n",
    "f = open('text2.txt', 'w')\n",
    "f.writelines('\\n'.join(lines))"
   ]
  },
  {
   "cell_type": "code",
   "execution_count": null,
   "metadata": {},
   "outputs": [],
   "source": [
    "# read file\n",
    "# readline(), readlines() methods\n",
    "\n",
    "with open('text2.txt') as f:\n",
    "    for line in f:\n",
    "        print(line, end=' ')"
   ]
  },
  {
   "cell_type": "code",
   "execution_count": null,
   "metadata": {},
   "outputs": [],
   "source": [
    "# readline()\n",
    "\n",
    "f = open('text2.txt')\n",
    "line = f.readline()\n",
    "while line:\n",
    "    print(line, end=' ')\n",
    "    line = f.readline()"
   ]
  },
  {
   "cell_type": "code",
   "execution_count": null,
   "metadata": {},
   "outputs": [],
   "source": [
    "# readlines()\n",
    "\n",
    "f = open('text2.txt')\n",
    "f.readlines()  # return as a list"
   ]
  },
  {
   "cell_type": "code",
   "execution_count": null,
   "metadata": {},
   "outputs": [],
   "source": [
    "# open a file for appending new lines\n",
    "f = open('text2.txt', 'a')\n",
    "f.write('\\nWriting new lines!')\n",
    "\n",
    "f = open('text2.txt', 'r')\n",
    "f.readlines()"
   ]
  },
  {
   "cell_type": "markdown",
   "metadata": {},
   "source": [
    "### Python Control Flow\n",
    "\n",
    "```if-elif-else``` are conditional statements that provide you with the decision making that is required when you want to execute code based on a particular condition. It is very common for programs to execute statements based on some conditions. The syntax of ```if-elif-else``` statement is the following:\n",
    "```python\n",
    "if boolean statement1:\n",
    "    statement1\n",
    "elif boolean statement2:\n",
    "    statement2\n",
    "else:\n",
    "    statement3\n",
    "```"
   ]
  },
  {
   "cell_type": "code",
   "execution_count": null,
   "metadata": {},
   "outputs": [],
   "source": [
    "# define variable\n",
    "a = 'first condition'\n",
    "b = 20\n",
    "\n",
    "# if-slif-else construct\n",
    "if a == 'first condition':\n",
    "    print('first statement')\n",
    "elif a == 'second condition':\n",
    "    print('second statement')\n",
    "elif a == 'third condition':\n",
    "    print('third statement')\n",
    "else:\n",
    "    print('no conditions match')"
   ]
  },
  {
   "cell_type": "code",
   "execution_count": null,
   "metadata": {
    "scrolled": true
   },
   "outputs": [],
   "source": [
    "# if-else construct\n",
    "if b > 10:\n",
    "    print('b is higher than 10')\n",
    "else:\n",
    "    print('b is not higher than 10')"
   ]
  },
  {
   "cell_type": "markdown",
   "metadata": {},
   "source": [
    "### Loops\n",
    "\n",
    "If you want to write the same line of code multiple times, loops help you to excute a block of code repeatedly.\n",
    "\n",
    "Python supports two kinds of loops:\n",
    "1. for loop\n",
    "1. while loop\n",
    "\n",
    "The syntax of for loop:\n",
    "```python\n",
    "for i in iterable object:\n",
    "    statement\n",
    "```"
   ]
  },
  {
   "cell_type": "code",
   "execution_count": null,
   "metadata": {},
   "outputs": [],
   "source": [
    "# example of for loop\n",
    "# range(a, b, k) returns a sequence from a to b-1 with k step\n",
    "\n",
    "for i in range(1, 11, 2):\n",
    "    print(i)"
   ]
  },
  {
   "cell_type": "code",
   "execution_count": null,
   "metadata": {},
   "outputs": [],
   "source": [
    "# list comprehension\n",
    "# list comprehension can utilize conditional statement to modify exisiting list\n",
    "a = [x for x in range(20) if x % 2 == 0]\n",
    "a"
   ]
  },
  {
   "cell_type": "code",
   "execution_count": null,
   "metadata": {},
   "outputs": [],
   "source": [
    "# nested if statement with list comprehension\n",
    "a = [y for y in range(100) if y % 2 == 0 if y % 5 == 0]\n",
    "a"
   ]
  },
  {
   "cell_type": "code",
   "execution_count": null,
   "metadata": {},
   "outputs": [],
   "source": [
    "# if else statement with list comprehension\n",
    "a = ['even' if i % 2 == 0 else 'odd' for i in range(10)]\n",
    "a"
   ]
  },
  {
   "cell_type": "code",
   "execution_count": null,
   "metadata": {},
   "outputs": [],
   "source": [
    "# Dictionary Comprehension\n",
    "\n",
    "s = 'abcde'\n",
    "d1 = {k: v for k, v in zip(s, range(1, 6))}\n",
    "d1"
   ]
  },
  {
   "cell_type": "code",
   "execution_count": null,
   "metadata": {},
   "outputs": [],
   "source": [
    "double_d1 = {k: v * 2 for k, v in d1.items()}\n",
    "double_d1"
   ]
  },
  {
   "cell_type": "code",
   "execution_count": null,
   "metadata": {},
   "outputs": [],
   "source": [
    "double_d2 = {k * 2: v for k, v in double_d1.items()}\n",
    "double_d2"
   ]
  },
  {
   "cell_type": "code",
   "execution_count": null,
   "metadata": {},
   "outputs": [],
   "source": [
    "# dict comprehension with if else conditions\n",
    "dict_cond = {k: ('even' if v % 2 == 0 else 'odd') for k, v in double_d2.items()}\n",
    "dict_cond"
   ]
  },
  {
   "cell_type": "markdown",
   "metadata": {},
   "source": [
    "***Quick Question:*** Count how many times each letter appears"
   ]
  },
  {
   "cell_type": "code",
   "execution_count": null,
   "metadata": {},
   "outputs": [],
   "source": [
    "def histogram(string):\n",
    "    histo = {}\n",
    "    ### START CODE HERE ###\n",
    "    \n",
    "    ### END CODE HERE ###\n",
    "    return histo\n",
    "\n",
    "histogram(\"extraordinary\")"
   ]
  },
  {
   "cell_type": "markdown",
   "metadata": {},
   "source": [
    "The syntax of while loop:\n",
    "```python\n",
    "while condition:\n",
    "    statement\n",
    "```\n",
    "\n",
    "The while loop keeps executing the statements until condition becomes False. If condition becomes False, execution is out of the loop"
   ]
  },
  {
   "cell_type": "code",
   "execution_count": null,
   "metadata": {},
   "outputs": [],
   "source": [
    "# example of while loop\n",
    "count = 0\n",
    "while count < 5:\n",
    "    print(count, end=' ')\n",
    "    count += 1"
   ]
  },
  {
   "cell_type": "markdown",
   "metadata": {},
   "source": [
    "**break & continue statement**\n",
    "\n",
    "```break``` statement allows to break out of the loop.\n",
    "\n",
    "When ```continue``` statement encountered, program control goes to the end of the loop."
   ]
  },
  {
   "cell_type": "code",
   "execution_count": null,
   "metadata": {},
   "outputs": [],
   "source": [
    "# example of break statement\n",
    "count = 0\n",
    "while count < 5:\n",
    "    print(count, end=' ')\n",
    "    count += 1\n",
    "    if count == 3:  # if count becomes 3, break keyword breaks out of the loop\n",
    "        break"
   ]
  },
  {
   "cell_type": "code",
   "execution_count": null,
   "metadata": {},
   "outputs": [],
   "source": [
    "# example of continue statement\n",
    "count = 0\n",
    "while count < 5:\n",
    "    count += 1\n",
    "    if count > 3:\n",
    "        continue\n",
    "    print(count, end=' ')"
   ]
  },
  {
   "cell_type": "markdown",
   "metadata": {},
   "source": [
    "**Quick Question:** Transpose the following 2D matrix by using for loop or list comprehension"
   ]
  },
  {
   "cell_type": "code",
   "execution_count": null,
   "metadata": {},
   "outputs": [],
   "source": [
    "# transpose using for loop\n",
    "matrix = [[1, 2, 3, 4], [5, 6, 7, 8]]\n",
    "matrix_transpose = [[0,0], [0,0], [0,0], [0,0]]\n",
    "\n",
    "### START CODE HERE ###\n",
    "\n",
    "### END CODE HERE ###\n",
    "        \n",
    "matrix_transpose"
   ]
  },
  {
   "cell_type": "code",
   "execution_count": null,
   "metadata": {},
   "outputs": [],
   "source": [
    "# nested loops in list comprehension\n",
    "matrix = [[1, 2, 3, 4], [5, 6, 7, 8]]\n",
    "\n",
    "### START CODE HERE ###\n",
    "\n",
    "### END CODE HERE ###\n",
    "\n",
    "matrix"
   ]
  },
  {
   "cell_type": "markdown",
   "metadata": {},
   "source": [
    "### Python Functions\n",
    "\n",
    "You can use functions to bundle a set of instructions that you want to use repeatedly.\n",
    "\n",
    "There are three types of functions in python:\n",
    "- **Built-in functions**: predefined functions (keywords) such as ```print()```, ```str.lower()```, and so on.\n",
    "- **User-defined functions**\n",
    "- **Anonymous functions** (lambda function)\n",
    "\n",
    "The syntax for defining user-defined function :\n",
    "```python\n",
    "def func_name():\n",
    "    statements\n",
    "    return .. (optional)\n",
    "```"
   ]
  },
  {
   "cell_type": "code",
   "execution_count": null,
   "metadata": {},
   "outputs": [],
   "source": [
    "def hello():\n",
    "    print('Hello World')\n",
    "    return  # return None object\n",
    "\n",
    "hello()"
   ]
  },
  {
   "cell_type": "code",
   "execution_count": null,
   "metadata": {},
   "outputs": [],
   "source": [
    "# you can call the function in another function\n",
    "\n",
    "def add_exponent(a, b):  # Required arguments! -> need to be passed during function call\n",
    "    c = add(a, b)  # we must define add() function!\n",
    "    return c ** 2\n",
    "\n",
    "def add(a, b):\n",
    "    return a + b"
   ]
  },
  {
   "cell_type": "code",
   "execution_count": null,
   "metadata": {},
   "outputs": [],
   "source": [
    "add_exponent(3, 4)  # (3 + 4)^2"
   ]
  },
  {
   "cell_type": "code",
   "execution_count": null,
   "metadata": {},
   "outputs": [],
   "source": [
    "# Default Arguments\n",
    "\n",
    "def add(a, b=3): # assign default value to b as 3\n",
    "    return a + b\n",
    "\n",
    "add(5)  # 5 + 3"
   ]
  },
  {
   "cell_type": "code",
   "execution_count": null,
   "metadata": {},
   "outputs": [],
   "source": [
    "add(5, 6) # 5 + 6 (call with positional arguments)"
   ]
  },
  {
   "cell_type": "code",
   "execution_count": null,
   "metadata": {},
   "outputs": [],
   "source": [
    "# keyword arguments -> make sure all the parameters in the right order\n",
    "\n",
    "def sub(a, b):\n",
    "    return a - b\n",
    "\n",
    "sub(5, 10) # call with parameters"
   ]
  },
  {
   "cell_type": "code",
   "execution_count": null,
   "metadata": {},
   "outputs": [],
   "source": [
    "sub(b=5, a=10) # call with keyword arguments"
   ]
  },
  {
   "cell_type": "code",
   "execution_count": null,
   "metadata": {},
   "outputs": [],
   "source": [
    "# Having a positional argument after keyword arguments will result in errors\n",
    "sub(a=10, 5)"
   ]
  },
  {
   "cell_type": "code",
   "execution_count": null,
   "metadata": {},
   "outputs": [],
   "source": [
    "# usage of unpacking: *args, **kwargs\n",
    "# asterisk is placed before the tuple object\n",
    "\n",
    "args = (10, 5)\n",
    "sub(*args)"
   ]
  },
  {
   "cell_type": "code",
   "execution_count": null,
   "metadata": {},
   "outputs": [],
   "source": [
    "# variable number of arguments\n",
    "\n",
    "def vargs(a, *args):\n",
    "    return a, args"
   ]
  },
  {
   "cell_type": "code",
   "execution_count": null,
   "metadata": {},
   "outputs": [],
   "source": [
    "vargs(10)"
   ]
  },
  {
   "cell_type": "code",
   "execution_count": null,
   "metadata": {},
   "outputs": [],
   "source": [
    "vargs(10, 11, 12)"
   ]
  },
  {
   "cell_type": "code",
   "execution_count": null,
   "metadata": {},
   "outputs": [],
   "source": [
    "vargs(10, 11, 12, 13, 14, 15)"
   ]
  },
  {
   "cell_type": "code",
   "execution_count": null,
   "metadata": {},
   "outputs": [],
   "source": [
    "# user defined make list function\n",
    "\n",
    "def make_list(*args):\n",
    "    return list(args)\n",
    "\n",
    "make_list(1, 2, 3, 4, 5)"
   ]
  },
  {
   "cell_type": "code",
   "execution_count": null,
   "metadata": {},
   "outputs": [],
   "source": [
    "# double asterisk(**) is placed before the dict object\n",
    "\n",
    "kwargs = dict(a=5, b=10)\n",
    "sub(**kwargs) # function call with keyword arguments"
   ]
  },
  {
   "cell_type": "code",
   "execution_count": null,
   "metadata": {},
   "outputs": [],
   "source": [
    "# passing undefined keyword arguments\n",
    "\n",
    "def f(a, b, *args, **kwargs):\n",
    "    print(a, b)\n",
    "    print(args)\n",
    "    print(kwargs)\n",
    "    \n",
    "f(1, 2, 3, 4, c=5, d=6)"
   ]
  },
  {
   "cell_type": "code",
   "execution_count": null,
   "metadata": {},
   "outputs": [],
   "source": [
    "args = (3, 4)\n",
    "kwargs = {'c':5, 'd':6}\n",
    "\n",
    "f(1, 2, *args, **kwargs)"
   ]
  },
  {
   "cell_type": "markdown",
   "metadata": {},
   "source": [
    "**Global & Local variable**\n",
    "\n",
    "**Global variable**: A variable declared outside of the function or in global scope. This means that a global variable can be accessed inside or outside of the function.\n",
    "\n",
    "**Local variable**: A variable declared inside the function's body or in the local scope."
   ]
  },
  {
   "cell_type": "code",
   "execution_count": null,
   "metadata": {},
   "outputs": [],
   "source": [
    "# define global variable\n",
    "x = 10\n",
    "y = 20"
   ]
  },
  {
   "cell_type": "code",
   "execution_count": null,
   "metadata": {},
   "outputs": [],
   "source": [
    "# Local variable would be referenced(accessed) if it is assigned in local scope. Otherwise, access global variable\n",
    "\n",
    "def func1():\n",
    "    x = 11 # local variable of func1\n",
    "    def func2():\n",
    "        z = 30 # local variable of func2\n",
    "        print(x, y, z) # reference x, z for local variable and y for global variable\n",
    "    func2()\n",
    "    x = 12 # change the value of x via local variable assignment (do not affect global variable)\n",
    "    func2()\n",
    "    \n",
    "func1()"
   ]
  },
  {
   "cell_type": "code",
   "execution_count": null,
   "metadata": {},
   "outputs": [],
   "source": [
    "# global variable x is not affected by local variable assignment\n",
    "x"
   ]
  },
  {
   "cell_type": "markdown",
   "metadata": {},
   "source": [
    "**global & nonlocal statement**"
   ]
  },
  {
   "cell_type": "code",
   "execution_count": null,
   "metadata": {},
   "outputs": [],
   "source": [
    "g = 10\n",
    "def func():\n",
    "    x = g   # g is not local -> reference global variable\n",
    "    return x\n",
    "\n",
    "func()"
   ]
  },
  {
   "cell_type": "code",
   "execution_count": null,
   "metadata": {},
   "outputs": [],
   "source": [
    "# you must assign before reference (no execption to local variable)\n",
    "g = 10\n",
    "def func():\n",
    "    x = g   #  2. but not assigned before reference\n",
    "    g = 10  # 1. g is considered as local variable,\n",
    "    return x\n",
    "\n",
    "func()"
   ]
  },
  {
   "cell_type": "code",
   "execution_count": null,
   "metadata": {},
   "outputs": [],
   "source": [
    "# global statement connects local to global variable\n",
    "\n",
    "g = 10\n",
    "def func():\n",
    "    global g  # connect local to global g\n",
    "    x = g\n",
    "    g = 20  # change the global variable g\n",
    "    return x\n",
    "\n",
    "func(), g"
   ]
  },
  {
   "cell_type": "code",
   "execution_count": null,
   "metadata": {},
   "outputs": [],
   "source": [
    "# nonlocal statement connect local to variable in closest namescope\n",
    "\n",
    "def func1():\n",
    "    x = 1\n",
    "    def func2():\n",
    "        nonlocal x  # connect local x of func2 to variable x of func1\n",
    "        x = 10  # change the variable x of func1\n",
    "        print(x)\n",
    "    func2()\n",
    "    print(x)\n",
    "\n",
    "func1()"
   ]
  },
  {
   "cell_type": "code",
   "execution_count": null,
   "metadata": {},
   "outputs": [],
   "source": [
    "# function as a argument\n",
    "\n",
    "def f(a, b):\n",
    "    return a + b\n",
    "\n",
    "def g(func, a, b):\n",
    "    return func(a, b) # function as a argument\n",
    "\n",
    "g(f, 4, 5)"
   ]
  },
  {
   "cell_type": "code",
   "execution_count": null,
   "metadata": {},
   "outputs": [],
   "source": [
    "# lambda function\n",
    "f = lambda : 1  # no parameter, just return 1\n",
    "f()"
   ]
  },
  {
   "cell_type": "code",
   "execution_count": null,
   "metadata": {},
   "outputs": [],
   "source": [
    "f = lambda x, y: x + y\n",
    "f(4, 5)"
   ]
  },
  {
   "cell_type": "code",
   "execution_count": null,
   "metadata": {},
   "outputs": [],
   "source": [
    "f = lambda x, y=10: x + y  # keyword argument support\n",
    "f(20)"
   ]
  },
  {
   "cell_type": "code",
   "execution_count": null,
   "metadata": {},
   "outputs": [],
   "source": [
    "keywords = lambda x, *args, **kwargs: kwargs\n",
    "keywords(1, 2, 3, a=4, b=5)"
   ]
  },
  {
   "cell_type": "markdown",
   "metadata": {},
   "source": [
    "**Quick Question:** Define function that check whether a given Number is a prime number."
   ]
  },
  {
   "cell_type": "code",
   "execution_count": null,
   "metadata": {},
   "outputs": [],
   "source": [
    "def check_prime(number):\n",
    "    ### START CODE HERE ###\n",
    "    \n",
    "    ### END CODE HERE ###\n",
    "\n",
    "check_prime(2)\n",
    "check_prime(10)\n",
    "check_prime(17)"
   ]
  },
  {
   "cell_type": "markdown",
   "metadata": {},
   "source": [
    "**Quick Question:** Compute i'th element of Fibonacci sequence"
   ]
  },
  {
   "cell_type": "code",
   "execution_count": null,
   "metadata": {},
   "outputs": [],
   "source": [
    "def fibo(n):\n",
    "    ### START CODE HERE ###\n",
    "    \n",
    "    ### END CODE HERE ###\n",
    "\n",
    "print(fibo(10))"
   ]
  },
  {
   "cell_type": "markdown",
   "metadata": {},
   "source": [
    "### Class & Class Inheritance\n",
    "\n",
    "Class name in python is preceded with class keyword followed by a colon ```:```. \n",
    "\n",
    "Classes commonly contains data field to store the data and methods for defining behaviors. \n",
    "\n",
    "Its definitions play some neat tricks with namespaces"
   ]
  },
  {
   "cell_type": "code",
   "execution_count": null,
   "metadata": {},
   "outputs": [],
   "source": [
    "class S1:\n",
    "    a = 10\n",
    "    \n",
    "S1.a"
   ]
  },
  {
   "cell_type": "code",
   "execution_count": null,
   "metadata": {},
   "outputs": [],
   "source": [
    "S1.b = 20 # create a new member in class namespace\n",
    "S1.b"
   ]
  },
  {
   "cell_type": "code",
   "execution_count": null,
   "metadata": {},
   "outputs": [],
   "source": [
    "inst1 = S1() # create instance object from class\n",
    "print(inst1.a)  # instance namespace is different from class namespace\n",
    "\n",
    "inst2 = S1() # create another instance object from class\n",
    "inst2.a = 100 # inst2 instance object namespace is not shared with inst1 instance object\n",
    "print(inst2.a, inst1.a)"
   ]
  },
  {
   "cell_type": "code",
   "execution_count": null,
   "metadata": {},
   "outputs": [],
   "source": [
    "# define method in class\n",
    "# 'self' method parameter means instance object created from class itself\n",
    "\n",
    "class Person:\n",
    "    # constructor or initializer\n",
    "    def __init__(self, name): \n",
    "        self.name = name # name is data field also commonly known as instance variables\n",
    "\n",
    "    # method which returns a string\n",
    "    def whoami(self):\n",
    "        return \"You are \" + self.name"
   ]
  },
  {
   "cell_type": "code",
   "execution_count": null,
   "metadata": {},
   "outputs": [],
   "source": [
    "person1 = Person(name='your name')  # create instance, automatically call __init__() method first\n",
    "Person.whoami(person1) # unbound method call"
   ]
  },
  {
   "cell_type": "code",
   "execution_count": null,
   "metadata": {},
   "outputs": [],
   "source": [
    "# bound method call\n",
    "person1.whoami()"
   ]
  },
  {
   "cell_type": "code",
   "execution_count": null,
   "metadata": {},
   "outputs": [],
   "source": [
    "# method call inside the class\n",
    "\n",
    "class Myclass:\n",
    "    def __init__(self, v):\n",
    "        self.value = v\n",
    "    def get(self):\n",
    "        return self.value\n",
    "    def count(self):\n",
    "        self.value = self.value + 1  # reference and assign to instance member\n",
    "        return self.get()  # method call"
   ]
  },
  {
   "cell_type": "markdown",
   "metadata": {},
   "source": [
    "### Class member & Instance member\n",
    "\n",
    "1. class member is defined outside of the methods\n",
    "1. instance member is defined inside method via 'self' as self.inst_member\n",
    "1. class member is created in class namespace\n",
    "1. instance member is created in instance namespace\n",
    "1. class member can be shared in all created instances\n",
    "1. instance member can be referenced from each instance object"
   ]
  },
  {
   "cell_type": "code",
   "execution_count": null,
   "metadata": {},
   "outputs": [],
   "source": [
    "class Var:\n",
    "    c_mem = 100 # class member\n",
    "    def f(self):\n",
    "        self.i_mem = 200 # instance member\n",
    "    def g(self):\n",
    "        return self.i_mem, self.c_mem"
   ]
  },
  {
   "cell_type": "code",
   "execution_count": null,
   "metadata": {},
   "outputs": [],
   "source": [
    "Var.c_mem  # call class member"
   ]
  },
  {
   "cell_type": "code",
   "execution_count": null,
   "metadata": {},
   "outputs": [],
   "source": [
    "v1 = Var()  # create instance\n",
    "v1.c_mem    # call class member via instance object"
   ]
  },
  {
   "cell_type": "code",
   "execution_count": null,
   "metadata": {},
   "outputs": [],
   "source": [
    "v1.f()  # create instance member i_mem\n",
    "v1.i_mem  # call instance member i_mem"
   ]
  },
  {
   "cell_type": "code",
   "execution_count": null,
   "metadata": {},
   "outputs": [],
   "source": [
    "# Class Inheritance\n",
    "\n",
    "class parent:\n",
    "    def __init__(self):\n",
    "        self.parent_attr = 'I am a parent'\n",
    "        \n",
    "    def parent_method(self):\n",
    "        print('call parent method..')\n",
    "        \n",
    "# create child class that inherits from parent class\n",
    "class child(parent):\n",
    "    def __init__(self):\n",
    "        parent.__init__(self)\n",
    "        self.child_attr = 'I am a child'\n",
    "        "
   ]
  },
  {
   "cell_type": "code",
   "execution_count": null,
   "metadata": {},
   "outputs": [],
   "source": [
    "# create instance of child\n",
    "child1 = child()\n",
    "\n",
    "# print attributes and call method\n",
    "print(child1.parent_attr)\n",
    "print(child1.child_attr)\n",
    "child1.parent_method()"
   ]
  },
  {
   "cell_type": "markdown",
   "metadata": {},
   "source": [
    "In the simplest case, the ```super``` function can be used to replace the explicit call to \n",
    "\n",
    "```python \n",
    "Parent.__init__(self) \n",
    "```"
   ]
  },
  {
   "cell_type": "code",
   "execution_count": null,
   "metadata": {},
   "outputs": [],
   "source": [
    "# the above child class is identical to:\n",
    "class child(parent):\n",
    "    def __init__(self):\n",
    "        super().__init__()  # do not depend on the name of parent class and we don't need to pass 'self' to call this method!\n",
    "        self.child_attr = 'I am a child'"
   ]
  },
  {
   "cell_type": "code",
   "execution_count": null,
   "metadata": {},
   "outputs": [],
   "source": [
    "# When a method in a subclass( == child class) has the same name with the method in parent class, \n",
    "# subclass finds and references the method in its namespace.\n",
    "# see the example below\n",
    "\n",
    "class Base(object):  # equivalent to Base:\n",
    "    def f(self):\n",
    "        self.g()   # call g method\n",
    "    def g(self):\n",
    "        print('call Base class method')\n",
    "\n",
    "# create subclass Derived inherits from Base\n",
    "class Derived(Base):\n",
    "    def g(self):  # same name with parent class method\n",
    "        print('call Derived class method')"
   ]
  },
  {
   "cell_type": "code",
   "execution_count": null,
   "metadata": {},
   "outputs": [],
   "source": [
    "b = Base()\n",
    "b.f()"
   ]
  },
  {
   "cell_type": "code",
   "execution_count": null,
   "metadata": {},
   "outputs": [],
   "source": [
    "a = Derived()\n",
    "a.f()"
   ]
  },
  {
   "cell_type": "code",
   "execution_count": null,
   "metadata": {},
   "outputs": [],
   "source": [
    "# Multiple Inheritance without super\n",
    "\n",
    "class B:\n",
    "    def b(self):\n",
    "        print('class B')\n",
    "\n",
    "\n",
    "class C:\n",
    "    def c(self):\n",
    "        print('class C')\n",
    "\n",
    "\n",
    "class D(B, C):\n",
    "    def d(self):\n",
    "        print('class D')"
   ]
  },
  {
   "cell_type": "code",
   "execution_count": null,
   "metadata": {},
   "outputs": [],
   "source": [
    "d = D()\n",
    "d.b(); d.c(); d.d()"
   ]
  },
  {
   "cell_type": "code",
   "execution_count": null,
   "metadata": {},
   "outputs": [],
   "source": [
    "# What's happening when excuting code with multiple & multilevel inheritance without super method ?\n",
    "# see the examples below\n",
    "class A:\n",
    "    def save(self):\n",
    "        print('A save called')\n",
    "        \n",
    "class B(A):\n",
    "    def save(self):\n",
    "        print('B save called')\n",
    "        A.save(self)\n",
    "        \n",
    "class C(A):\n",
    "    def save(self):\n",
    "        print('C save called')\n",
    "        A.save(self)\n",
    "        \n",
    "class D(B, C):\n",
    "    def save(self):\n",
    "        print('D save called')\n",
    "        B.save(self)\n",
    "        C.save(self)\n",
    "        \n",
    "d = D()\n",
    "d.save()  # induce redundant save!"
   ]
  },
  {
   "cell_type": "code",
   "execution_count": null,
   "metadata": {},
   "outputs": [],
   "source": [
    "# with super method:\n",
    "class A:\n",
    "    def save(self):\n",
    "        print('A save called')\n",
    "        \n",
    "class B(A):\n",
    "    def save(self):\n",
    "        print('B save called')\n",
    "        super().save()  # prevent unwanted call\n",
    "        \n",
    "class C(A):\n",
    "    def save(self):\n",
    "        print('C save called')\n",
    "        super().save()  # prevent unwanted call\n",
    "        \n",
    "class D(B, C):\n",
    "    def save(self):\n",
    "        print('D save called')\n",
    "        super().save()\n",
    "        \n",
    "d = D()\n",
    "d.save()  "
   ]
  },
  {
   "cell_type": "markdown",
   "metadata": {},
   "source": [
    "**References** \n",
    "\n",
    "https://thepythonguru.com/\n",
    "\n",
    "https://www.datacamp.com/community/tutorials/\n",
    "\n",
    "https://docs.python.org/3/\n",
    "\n",
    "https://www.programiz.com/python-programming\n",
    "\n",
    "https://www.programiz.com/python-programming/examples \n",
    "\n",
    "https://python.swaroopch.com/oop.html\n",
    "\n",
    "파이썬3 바이블 - 이강성 저, 프리렉(이한디지털리)"
   ]
  },
  {
   "cell_type": "code",
   "execution_count": null,
   "metadata": {},
   "outputs": [],
   "source": []
  }
 ],
 "metadata": {
  "kernelspec": {
   "display_name": "Python 3",
   "language": "python",
   "name": "python3"
  },
  "language_info": {
   "codemirror_mode": {
    "name": "ipython",
    "version": 3
   },
   "file_extension": ".py",
   "mimetype": "text/x-python",
   "name": "python",
   "nbconvert_exporter": "python",
   "pygments_lexer": "ipython3",
   "version": "3.6.9"
  }
 },
 "nbformat": 4,
 "nbformat_minor": 2
}
