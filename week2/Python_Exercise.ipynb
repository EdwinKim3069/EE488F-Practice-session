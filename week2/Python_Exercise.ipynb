{
 "cells": [
  {
   "cell_type": "markdown",
   "metadata": {
    "colab_type": "text",
    "id": "VTYwngQbWV_8"
   },
   "source": [
    "## Python Exercise"
   ]
  },
  {
   "cell_type": "markdown",
   "metadata": {
    "colab_type": "text",
    "id": "XlqhB-lVWf4M"
   },
   "source": [
    "## **1) Convert to Celsius To Fahrenheit**\n",
    "\n",
    "- The formula between Celsius and Fahrenheit :\n",
    "\n",
    "\n",
    "> > *celsius * 1.8 = fahrenheit - 32*\n",
    "\n",
    "- Convert given temperature in celsius to fahrenheit\n",
    "\n",
    "- 34.5 degree Celsius\n",
    "\n",
    "\n",
    "\n",
    "\n",
    "\n",
    "\n",
    "\n",
    "\n",
    "\n"
   ]
  },
  {
   "cell_type": "code",
   "execution_count": 18,
   "metadata": {
    "colab": {
     "base_uri": "https://localhost:8080/",
     "height": 35
    },
    "colab_type": "code",
    "id": "NvxhTmo2cWAK",
    "outputId": "4cce3048-01b8-4926-e0bc-f9ce6e9eacf6"
   },
   "outputs": [
    {
     "name": "stdout",
     "output_type": "stream",
     "text": [
      "34.5 degree Celsius is equal to  94.1 degree Fahrenheit\n"
     ]
    }
   ],
   "source": [
    "Cel = 34.5\n",
    "\n",
    "Far = (Cel * 1.8) +32\n",
    "\n",
    "print('%0.1f degree Celsius is equal to % 0.1f degree Fahrenheit' % (Cel, Far))"
   ]
  },
  {
   "cell_type": "markdown",
   "metadata": {
    "colab_type": "text",
    "id": "LXCWWDnECqWV"
   },
   "source": [
    "## **2) Check if a Number is odd or even**\n",
    "\n",
    "- Take input and check if the input number is odd or even\n"
   ]
  },
  {
   "cell_type": "code",
   "execution_count": 36,
   "metadata": {
    "colab": {
     "base_uri": "https://localhost:8080/",
     "height": 53
    },
    "colab_type": "code",
    "id": "pyQ6ssGmCq_i",
    "outputId": "09a06b3a-21ac-4da0-9565-4b7b65d43478"
   },
   "outputs": [
    {
     "name": "stdout",
     "output_type": "stream",
     "text": [
      "Enter a number: 17\n",
      " 17 is odd\n"
     ]
    }
   ],
   "source": [
    "number = int(input(\"Enter a number: \"))\n",
    "if (number % 2) == 0:\n",
    "    print(\" %d is even\" % number)\n",
    "else:\n",
    "    print(\" %d is odd\" % number)"
   ]
  },
  {
   "cell_type": "markdown",
   "metadata": {
    "colab_type": "text",
    "id": "yGe4Eau-bvrF"
   },
   "source": [
    "## **3) Matrix Transpose**\n",
    "\n",
    "- Transpose the following matrix using loop and list\n",
    "\n",
    "- M = [[11, 19],\n",
    "     [2,1], \n",
    "     [29, 40]]\n",
    "\n",
    "\n",
    "\n",
    "\n",
    "\n",
    "\n",
    "\n",
    "\n",
    "\n"
   ]
  },
  {
   "cell_type": "code",
   "execution_count": 19,
   "metadata": {
    "colab": {
     "base_uri": "https://localhost:8080/",
     "height": 35
    },
    "colab_type": "code",
    "id": "hhH-4TAFddWG",
    "outputId": "7faa1672-f8c4-48a6-9112-22abb08bf567"
   },
   "outputs": [
    {
     "name": "stdout",
     "output_type": "stream",
     "text": [
      "[[11, 2, 29], [19, 1, 40]]\n"
     ]
    }
   ],
   "source": [
    "M = [[11, 19],\n",
    "     [2,1], \n",
    "     [29, 40]]\n",
    "\n",
    "M_transpose = [[0,0,0], [0,0,0]]\n",
    "\n",
    "for i in range(len(M)):\n",
    "    for j in range(len(M_transpose)):\n",
    "        M_transpose[j][i] = M[i][j]\n",
    "\n",
    "print(M_transpose)"
   ]
  },
  {
   "cell_type": "markdown",
   "metadata": {
    "colab_type": "text",
    "id": "OeKYkh6KdPDZ"
   },
   "source": [
    "## **4)Matrix Multiplication**\n",
    "\n",
    "\n",
    "\n",
    "\n",
    "\n",
    "\n",
    "\n",
    "\n",
    "\n",
    "\n",
    "\n",
    "\n",
    "\n",
    "\n"
   ]
  },
  {
   "cell_type": "markdown",
   "metadata": {
    "colab_type": "text",
    "id": "E12corDsgIgL"
   },
   "source": [
    "**1.Multiply the following two matrices using loop**\n",
    "\n",
    "- A = [[1,3,5],[2,4,7]]\n",
    "- B = [[1,6],[2,4],[9,2]]"
   ]
  },
  {
   "cell_type": "code",
   "execution_count": 21,
   "metadata": {
    "colab": {
     "base_uri": "https://localhost:8080/",
     "height": 35
    },
    "colab_type": "code",
    "id": "vhDCWxkcdunY",
    "outputId": "43c835d9-03c9-4f0b-a122-b37098c122a0"
   },
   "outputs": [
    {
     "name": "stdout",
     "output_type": "stream",
     "text": [
      "[[52, 28], [73, 42]]\n"
     ]
    }
   ],
   "source": [
    "A = [[1,3,5],[2,4,7]]\n",
    "B = [[1,6],[2,4],[9,2]]\n",
    "\n",
    "result = [[0,0],[0,0]]\n",
    "\n",
    "for i in range(len(A)):\n",
    "    for j in range(len(B[0])):\n",
    "        for k in range(len(B)):\n",
    "            result[i][j] += A[i][k] * B[k][j]\n",
    "\n",
    "print(result)"
   ]
  },
  {
   "cell_type": "markdown",
   "metadata": {
    "colab_type": "text",
    "id": "dSxH-NcDnlln"
   },
   "source": [
    "**2.Multiply the following two matrices using nested list comprehension**"
   ]
  },
  {
   "cell_type": "code",
   "execution_count": 33,
   "metadata": {
    "colab": {
     "base_uri": "https://localhost:8080/",
     "height": 35
    },
    "colab_type": "code",
    "id": "a35gfeetnbxY",
    "outputId": "002c6ed6-6c26-4624-b82e-03e6de54eaaa"
   },
   "outputs": [
    {
     "name": "stdout",
     "output_type": "stream",
     "text": [
      "[[52, 28], [73, 42]]\n"
     ]
    }
   ],
   "source": [
    "a = [[1,3,5],[2,4,7]]\n",
    "b = [[1,6],[2,4],[9,2]]\n",
    "\n",
    "\n",
    "result = [[sum(a*b for a,b in zip(a_row, b_col)) for b_col in zip(*b)] for a_row in a] # * operation unpacks a list\n",
    "\n",
    "print(result)"
   ]
  },
  {
   "cell_type": "markdown",
   "metadata": {
    "colab_type": "text",
    "id": "bAbkJRiNv5Jo"
   },
   "source": [
    "**3.Multiply the following two matrices using Numpy**"
   ]
  },
  {
   "cell_type": "code",
   "execution_count": 26,
   "metadata": {
    "colab": {
     "base_uri": "https://localhost:8080/",
     "height": 53
    },
    "colab_type": "code",
    "id": "8BXnzf1hwAVt",
    "outputId": "bfe9cf1a-3920-49e6-ea14-7ac3fc4c7bd3"
   },
   "outputs": [
    {
     "name": "stdout",
     "output_type": "stream",
     "text": [
      "[[52 28]\n",
      " [73 42]]\n"
     ]
    }
   ],
   "source": [
    "import numpy as np\n",
    "\n",
    "A = [[1,3,5],[2,4,7]]\n",
    "B = [[1,6],[2,4],[9,2]]\n",
    "\n",
    "A_np = np.array(A)\n",
    "B_np = np.array(B)\n",
    "\n",
    "result = np.matmul(A_np, B_np)\n",
    "print(result)\n",
    "\n"
   ]
  },
  {
   "cell_type": "markdown",
   "metadata": {
    "colab_type": "text",
    "id": "iLQ_7moYD4_2"
   },
   "source": [
    "## **5) Make a function that finds the least common multiple(L.C.M.) of two numbers**\n",
    "\n",
    "- Find the L.C.M. of 18 and 24"
   ]
  },
  {
   "cell_type": "code",
   "execution_count": 4,
   "metadata": {
    "colab": {
     "base_uri": "https://localhost:8080/",
     "height": 35
    },
    "colab_type": "code",
    "id": "JeltlcGvD4IY",
    "outputId": "71ae5632-67d4-4e88-9db8-44d37f3be09e"
   },
   "outputs": [
    {
     "name": "stdout",
     "output_type": "stream",
     "text": [
      "The LCM is  72\n"
     ]
    }
   ],
   "source": [
    "def find_lcm(a,b):\n",
    "\n",
    "    if a > b:\n",
    "        greater = a\n",
    "    \n",
    "    else:\n",
    "        greater = b\n",
    "\n",
    "    while(True):\n",
    "        if ((greater % a == 0) and (greater % b == 0)):\n",
    "            lcm = greater\n",
    "            break\n",
    "        else:\n",
    "            greater +=1\n",
    "        \n",
    "    \n",
    "    return lcm\n",
    "\n",
    "n1 = 18\n",
    "n2 = 24\n",
    "\n",
    "print(\"The LCM is \", find_lcm(n1,n2))\n"
   ]
  },
  {
   "cell_type": "markdown",
   "metadata": {
    "colab_type": "text",
    "id": "ypeGismHOEf5"
   },
   "source": [
    "## **6) Compute Fibonacci sequence using recursion**\n",
    "\n",
    "- Find 10th term of Fibonacci sequence "
   ]
  },
  {
   "cell_type": "code",
   "execution_count": 6,
   "metadata": {
    "colab": {
     "base_uri": "https://localhost:8080/",
     "height": 35
    },
    "colab_type": "code",
    "id": "L_uLyq59Bl96",
    "outputId": "459b33ea-8bbd-400e-cecb-1d4398b30cf2"
   },
   "outputs": [
    {
     "name": "stdout",
     "output_type": "stream",
     "text": [
      "55\n"
     ]
    }
   ],
   "source": [
    "def fibo(n):\n",
    "    if n<=1:\n",
    "        return n\n",
    "\n",
    "    else:\n",
    "        return(fibo(n-1) + fibo(n-2))\n",
    "\n",
    "print(fibo(10))\n"
   ]
  },
  {
   "cell_type": "markdown",
   "metadata": {
    "colab_type": "text",
    "id": "pY-Z3QOFUo2m"
   },
   "source": [
    "## **7) Dictionary - Count how many times each letter appears**\n",
    "\n",
    "> Ex)Extraordinary"
   ]
  },
  {
   "cell_type": "code",
   "execution_count": 8,
   "metadata": {
    "colab": {
     "base_uri": "https://localhost:8080/",
     "height": 197
    },
    "colab_type": "code",
    "id": "RtdVlaxhU_0j",
    "outputId": "cfeca18e-a599-4a93-9727-d54f0929796f"
   },
   "outputs": [
    {
     "data": {
      "text/plain": [
       "{'a': 2,\n",
       " 'd': 1,\n",
       " 'e': 1,\n",
       " 'i': 1,\n",
       " 'n': 1,\n",
       " 'o': 1,\n",
       " 'r': 3,\n",
       " 't': 1,\n",
       " 'x': 1,\n",
       " 'y': 1}"
      ]
     },
     "execution_count": 8,
     "metadata": {
      "tags": []
     },
     "output_type": "execute_result"
    }
   ],
   "source": [
    "def histogram(string):\n",
    "    histo = {}\n",
    "    for s in string:\n",
    "        if s not in histo:\n",
    "            histo[s] = 1\n",
    "        else:\n",
    "            histo[s] +=1\n",
    "    return histo\n",
    "\n",
    "histogram(\"extraordinary\")"
   ]
  },
  {
   "cell_type": "markdown",
   "metadata": {
    "colab_type": "text",
    "id": "OIFgEY8QWFVf"
   },
   "source": [
    "## **8) Class exercise**"
   ]
  },
  {
   "cell_type": "code",
   "execution_count": 26,
   "metadata": {
    "colab": {
     "base_uri": "https://localhost:8080/",
     "height": 161
    },
    "colab_type": "code",
    "id": "GUoX1QT9WNG3",
    "outputId": "6f01f28c-3adb-4081-ca3d-210c1f3510b3"
   },
   "outputs": [
    {
     "name": "stdout",
     "output_type": "stream",
     "text": [
      "(Initailized SchoolMember: Messi)\n",
      "(Initailized Teacher: Messi)\n",
      "Name: Messi, Age: 33\n",
      "Salary: 30000\n",
      "(Initailized SchoolMember: Neymar)\n",
      "(Initailized Student: Neymar)\n",
      "Name: Neymar, Age: 30\n",
      "student_number: 74\n"
     ]
    }
   ],
   "source": [
    "class SchoolMember:\n",
    "    def __init__(self, name, age):\n",
    "\n",
    "        self.name = name\n",
    "        self.age = age\n",
    "        print('(Initailized SchoolMember: %s)' % self.name)\n",
    "    def tell(self):\n",
    "\n",
    "        print('Name: %s, Age: %d' % (self.name, self.age))\n",
    "    \n",
    "class Teacher(SchoolMember): #Inherit from SchoolMember\n",
    "    def __init__(self, name, age, salary):\n",
    "        SchoolMember.__init__(self, name, age)\n",
    "        self.salary = salary\n",
    "        print('(Initailized Teacher: %s)' % self.name)\n",
    "\n",
    "    def tell(self):\n",
    "        SchoolMember.tell(self)\n",
    "        print('Salary: %d' % self.salary)\n",
    "\n",
    "class Student(SchoolMember): #Inherit from SchoolMember\n",
    "    def __init__(self, name, age, student_number):\n",
    "        SchoolMember.__init__(self, name, age)\n",
    "        self.student_number = student_number\n",
    "        print('(Initailized Student: %s)' % self.name)\n",
    "\n",
    "    def tell(self):\n",
    "        SchoolMember.tell(self)\n",
    "        print('student_number: %d' % self.student_number)\n",
    "\n",
    "\n",
    "a = Teacher('Messi', 33, 30000)\n",
    "a.tell()\n",
    "\n",
    "b = Student('Neymar', 30, 74)\n",
    "b.tell()"
   ]
  },
  {
   "cell_type": "markdown",
   "metadata": {
    "colab_type": "text",
    "id": "3wLwBpa8bj0I"
   },
   "source": [
    "#Reference\n",
    "\n",
    "https://www.programiz.com/python-programming/examples \n",
    "\n",
    "https://python.swaroopch.com/oop.html\n",
    "\n",
    "\n"
   ]
  }
 ],
 "metadata": {
  "colab": {
   "collapsed_sections": [
    "XlqhB-lVWf4M",
    "LXCWWDnECqWV",
    "yGe4Eau-bvrF",
    "OeKYkh6KdPDZ",
    "iLQ_7moYD4_2",
    "ypeGismHOEf5",
    "pY-Z3QOFUo2m",
    "OIFgEY8QWFVf"
   ],
   "name": "Python_Exercise.ipynb",
   "provenance": []
  },
  "kernelspec": {
   "display_name": "Python 3",
   "language": "python",
   "name": "python3"
  },
  "language_info": {
   "codemirror_mode": {
    "name": "ipython",
    "version": 3
   },
   "file_extension": ".py",
   "mimetype": "text/x-python",
   "name": "python",
   "nbconvert_exporter": "python",
   "pygments_lexer": "ipython3",
   "version": "3.6.9"
  }
 },
 "nbformat": 4,
 "nbformat_minor": 1
}
