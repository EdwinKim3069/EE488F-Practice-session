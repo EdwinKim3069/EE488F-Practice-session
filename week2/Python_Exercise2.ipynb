{
 "cells": [
  {
   "cell_type": "code",
   "execution_count": null,
   "metadata": {},
   "outputs": [],
   "source": [
    "import numpy as np\n",
    "import matplotlib.pyplot as plt"
   ]
  },
  {
   "cell_type": "markdown",
   "metadata": {},
   "source": [
    "### Plotting Synthetic Data - Gaussian distribution\n",
    "\n",
    "**Objective:** Generate synthetic data that follows two different gaussian distributions with different mean and variance."
   ]
  },
  {
   "cell_type": "code",
   "execution_count": null,
   "metadata": {},
   "outputs": [],
   "source": [
    "# generate samples from normal distributions with two dimensional\n",
    "# size of samples\n",
    "n = 30\n",
    "X1 = np.random.normal(loc=10, scale=5, size=(n, 2)) # loc and scale indicate mean and variance\n",
    "X2 = np.random.normal(loc=20, scale=5, size=(n, 2)) # X1 and X2 have different mean\n",
    "Y1 = np.ones(n)\n",
    "Y2 = np.ones(n) * -1                      # labeling as 1 for X1 and -1 for X2"
   ]
  },
  {
   "cell_type": "code",
   "execution_count": null,
   "metadata": {},
   "outputs": [],
   "source": [
    "# concatenate X1 and X2\n",
    "X_train = np.concatenate((X1, X2))\n",
    "Y_train = np.concatenate((Y1, Y2))\n",
    "X_train.shape  # sanity check for shape of the data array -> (number of samples, dimension)"
   ]
  },
  {
   "cell_type": "markdown",
   "metadata": {},
   "source": [
    "### Plotting X_train data\n",
    "\n",
    "**Objective:** Plot the X_train with different colors correspoding to the labels (let 1 label to be blue and -1 to be red)\n",
    "\n",
    "Use ```plt.scatter()``` method to plot the sample points"
   ]
  },
  {
   "cell_type": "code",
   "execution_count": null,
   "metadata": {},
   "outputs": [],
   "source": [
    "# plot the samples without specifying color\n",
    "plt.scatter(X_train[:, 0].T, X_train[:, 1].T)\n",
    "plt.show()"
   ]
  },
  {
   "cell_type": "code",
   "execution_count": null,
   "metadata": {},
   "outputs": [],
   "source": [
    "# We can specify the color , edgecolor, legend, and point size.\n",
    "# 'b' and 'k' means blue and black, s is fontsize (sample point size)\n",
    "plt.scatter(X_train[:, 0].T, X_train[:, 1].T, color='b', edgecolor='k', label='sample points', s=35) \n",
    "plt.grid(True)  # grid on\n",
    "plt.legend()    # display the label ('sample points')\n",
    "plt.show()"
   ]
  },
  {
   "cell_type": "code",
   "execution_count": null,
   "metadata": {},
   "outputs": [],
   "source": [
    "# Plot the samples with color corresponding to the 1, -1 label by using mask indexing\n",
    "plt.scatter(X_train[Y_train==1][:, 0].T, X_train[Y_train==1][:, 1].T, color='b', edgecolor='k', label='label : 1', s=35)\n",
    "plt.scatter(X_train[Y_train==-1][:, 0].T, X_train[Y_train==-1][:, 1].T, color='r', edgecolor='k', label='label : -1', s=35)\n",
    "plt.grid(True)\n",
    "plt.legend()\n",
    "plt.show()"
   ]
  },
  {
   "cell_type": "markdown",
   "metadata": {},
   "source": [
    "### Plotting Arbitrary Linear Boundary\n",
    "\n",
    "**objective:** understand ```np.meshgrid()``` method and draw boundary by using it\n",
    "\n",
    "Assume that the boundary is of the form:\n",
    "$ax_1+bx_2 + c = 0$ where $a, b$ and $c$ are arbitrary in this case. (are not learned yet) \n",
    "\n",
    "We must plot this boundary based on whether $ax_1+bx_2 + c = 0$ or not for all data sample point $(x_1, x_2)$. Therefore, we need to prepare all the grid point of 2D dimensional space and compute $ax_1+bx_2 + c$ for all grids. This is what we will do using ```np.meshgrid()``` method."
   ]
  },
  {
   "cell_type": "code",
   "execution_count": null,
   "metadata": {},
   "outputs": [],
   "source": [
    "# specify the min max value of x-axis and y-axis for meshgrids\n",
    "x_min, x_max = -30, 30\n",
    "y_min, y_max = -30, 30\n",
    "xx, yy = np.meshgrid(np.linspace(x_min, x_max, 30), np.linspace(y_min, y_max, 30)) # 30 grids for each axis\n",
    "grids = np.c_[xx.ravel(), yy.ravel()]\n",
    "grids.shape # total 30 x 30 = 900 grid points"
   ]
  },
  {
   "cell_type": "code",
   "execution_count": null,
   "metadata": {},
   "outputs": [],
   "source": [
    "# initialize a, b and c with arbitrary number\n",
    "ab = np.random.normal(size=(2))\n",
    "c = np.random.normal(size=(1))"
   ]
  },
  {
   "cell_type": "code",
   "execution_count": null,
   "metadata": {},
   "outputs": [],
   "source": [
    "# compute ax_1 + bx_2 + c for all grids\n",
    "Z = grids@ab + c\n",
    "plt.contour(xx, yy, Z.reshape(xx.shape), levels=[0], colors='k') # draw boundary based on whether Z is equal to 0\n",
    "plt.show()"
   ]
  },
  {
   "cell_type": "code",
   "execution_count": null,
   "metadata": {},
   "outputs": [],
   "source": [
    "# Draw with colormap\n",
    "plt.contour(xx, yy, Z.reshape(xx.shape), levels=[0], colors='k')\n",
    "plt.contourf(xx, yy, Z.reshape(xx.shape), cmap='RdBu', alpha=0.7)\n",
    "plt.show()"
   ]
  },
  {
   "cell_type": "markdown",
   "metadata": {},
   "source": [
    "**Merge all the plots for data points and boundary**"
   ]
  },
  {
   "cell_type": "code",
   "execution_count": null,
   "metadata": {},
   "outputs": [],
   "source": [
    "# initialize a, b and c with arbitrary number\n",
    "ab = np.array([-0.4, -0.3])\n",
    "c = np.array([11])\n",
    "\n",
    "# Plot the samples with color corresponding to the 1, -1 label by using mask indexing\n",
    "plt.scatter(X_train[Y_train==1][:, 0].T, X_train[Y_train==1][:, 1].T, color='b', edgecolor='k', label='label : 1', s=35)\n",
    "plt.scatter(X_train[Y_train==-1][:, 0].T, X_train[Y_train==-1][:, 1].T, color='r', edgecolor='k', label='label : -1', s=35)\n",
    "plt.grid(True)\n",
    "plt.legend()\n",
    "\n",
    "axes = plt.gca() # get current axes object (similar to MATLAB plot)\n",
    "x_min, x_max = axes.get_xlim() \n",
    "y_min, y_max = axes.get_ylim() # get min max value for each axis for current plot\n",
    "\n",
    "xx, yy = np.meshgrid(np.linspace(x_min, x_max, 30), np.linspace(y_min, y_max, 30)) # 30 grids for each axis\n",
    "grids = np.c_[xx.ravel(), yy.ravel()]\n",
    "Z = grids@ab + c\n",
    "\n",
    "plt.contour(xx, yy, Z.reshape(xx.shape), levels=[0], colors='k')\n",
    "plt.contourf(xx, yy, Z.reshape(xx.shape), cmap='RdBu', alpha=0.7)  # draw colormap if you want\n",
    "\n",
    "plt.show()"
   ]
  },
  {
   "cell_type": "code",
   "execution_count": null,
   "metadata": {},
   "outputs": [],
   "source": []
  }
 ],
 "metadata": {
  "kernelspec": {
   "display_name": "Python 3",
   "language": "python",
   "name": "python3"
  },
  "language_info": {
   "codemirror_mode": {
    "name": "ipython",
    "version": 3
   },
   "file_extension": ".py",
   "mimetype": "text/x-python",
   "name": "python",
   "nbconvert_exporter": "python",
   "pygments_lexer": "ipython3",
   "version": "3.6.9"
  }
 },
 "nbformat": 4,
 "nbformat_minor": 2
}
